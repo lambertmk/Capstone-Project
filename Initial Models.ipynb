{
 "cells": [
  {
   "cell_type": "code",
   "execution_count": null,
   "metadata": {},
   "outputs": [],
   "source": [
    "# OUTLINE\n",
    "\n",
    "# many columns with small number of Y/N, rest missing: for categorical, make category for missing\n",
    "# - possible thoughts: outcome by \"assigned by\" (aka who called it in); outcome by race, gang affiliation, etc"
   ]
  },
  {
   "cell_type": "code",
   "execution_count": 1,
   "metadata": {},
   "outputs": [],
   "source": [
    "import xgboost as xgb\n",
    "import pandas as pd\n",
    "import numpy as np\n",
    "import seaborn as sns\n",
    "import sklearn\n",
    "import matplotlib.pyplot as plt\n",
    "import itertools\n",
    "from sklearn.model_selection import train_test_split, GridSearchCV\n",
    "from sklearn.linear_model import LogisticRegression\n",
    "from matplotlib import pyplot\n",
    "from sklearn import preprocessing, metrics, ensemble\n",
    "from sklearn.preprocessing import StandardScaler, LabelEncoder\n",
    "from xgboost import XGBClassifier, plot_importance\n",
    "from sklearn.metrics import accuracy_score, precision_score, recall_score, f1_score, classification_report, confusion_matrix, roc_auc_score, roc_curve, auc\n",
    "from sklearn.ensemble import RandomForestClassifier, GradientBoostingClassifier, AdaBoostClassifier\n",
    "from sklearn.tree import DecisionTreeClassifier"
   ]
  },
  {
   "cell_type": "code",
   "execution_count": 2,
   "metadata": {},
   "outputs": [
    {
     "data": {
      "text/html": [
       "<div>\n",
       "<style scoped>\n",
       "    .dataframe tbody tr th:only-of-type {\n",
       "        vertical-align: middle;\n",
       "    }\n",
       "\n",
       "    .dataframe tbody tr th {\n",
       "        vertical-align: top;\n",
       "    }\n",
       "\n",
       "    .dataframe thead th {\n",
       "        text-align: right;\n",
       "    }\n",
       "</style>\n",
       "<table border=\"1\" class=\"dataframe\">\n",
       "  <thead>\n",
       "    <tr style=\"text-align: right;\">\n",
       "      <th></th>\n",
       "      <th>CONTACT_CARD_ID</th>\n",
       "      <th>CONTACT_TYPE_CD</th>\n",
       "      <th>CARD_NO</th>\n",
       "      <th>CONTACT_DATE</th>\n",
       "      <th>CONTACT_HOUR</th>\n",
       "      <th>SUBMITTING_BEAT_CD</th>\n",
       "      <th>JUVENILE_I</th>\n",
       "      <th>CLOTHING_DESCR</th>\n",
       "      <th>NAME_VERIFIED_I</th>\n",
       "      <th>RD_NO</th>\n",
       "      <th>...</th>\n",
       "      <th>STOLEN_PROPERTY_I</th>\n",
       "      <th>SEARCH_PROPERTY_I</th>\n",
       "      <th>S_ALCOHOL_I</th>\n",
       "      <th>S_PARA_I</th>\n",
       "      <th>S_STOLEN_PROPERTY_I</th>\n",
       "      <th>GANG_OTHER</th>\n",
       "      <th>OTHER_DESCR</th>\n",
       "      <th>S_OTHER_I</th>\n",
       "      <th>S_OTHER_DESCR</th>\n",
       "      <th>NAME</th>\n",
       "    </tr>\n",
       "  </thead>\n",
       "  <tbody>\n",
       "    <tr>\n",
       "      <td>0</td>\n",
       "      <td>20410357</td>\n",
       "      <td>INVSTG</td>\n",
       "      <td>ISR000410357</td>\n",
       "      <td>01-JAN-2018 00:08</td>\n",
       "      <td>0</td>\n",
       "      <td>2523</td>\n",
       "      <td>N</td>\n",
       "      <td>BROWN JACKET, JEANS</td>\n",
       "      <td>NaN</td>\n",
       "      <td>JB100012</td>\n",
       "      <td>...</td>\n",
       "      <td>NaN</td>\n",
       "      <td>N</td>\n",
       "      <td>NaN</td>\n",
       "      <td>NaN</td>\n",
       "      <td>NaN</td>\n",
       "      <td>UNKNOWN</td>\n",
       "      <td>NaN</td>\n",
       "      <td>NaN</td>\n",
       "      <td>NaN</td>\n",
       "      <td>NaN</td>\n",
       "    </tr>\n",
       "    <tr>\n",
       "      <td>1</td>\n",
       "      <td>20410350</td>\n",
       "      <td>INVSTG</td>\n",
       "      <td>ISR000410350</td>\n",
       "      <td>01-JAN-2018 00:08</td>\n",
       "      <td>0</td>\n",
       "      <td>2523</td>\n",
       "      <td>N</td>\n",
       "      <td>BLUE JEANS AND A BLACK SWEATER</td>\n",
       "      <td>NaN</td>\n",
       "      <td>JB100012</td>\n",
       "      <td>...</td>\n",
       "      <td>NaN</td>\n",
       "      <td>N</td>\n",
       "      <td>NaN</td>\n",
       "      <td>NaN</td>\n",
       "      <td>NaN</td>\n",
       "      <td>NaN</td>\n",
       "      <td>NaN</td>\n",
       "      <td>NaN</td>\n",
       "      <td>NaN</td>\n",
       "      <td>NaN</td>\n",
       "    </tr>\n",
       "    <tr>\n",
       "      <td>2</td>\n",
       "      <td>20410351</td>\n",
       "      <td>INVSTG</td>\n",
       "      <td>ISR000410351</td>\n",
       "      <td>01-JAN-2018 00:08</td>\n",
       "      <td>0</td>\n",
       "      <td>2523</td>\n",
       "      <td>N</td>\n",
       "      <td>GRAY HOODED SWEATER, JEANS</td>\n",
       "      <td>NaN</td>\n",
       "      <td>JB100012</td>\n",
       "      <td>...</td>\n",
       "      <td>NaN</td>\n",
       "      <td>N</td>\n",
       "      <td>NaN</td>\n",
       "      <td>NaN</td>\n",
       "      <td>NaN</td>\n",
       "      <td>UNKNOWN</td>\n",
       "      <td>NaN</td>\n",
       "      <td>NaN</td>\n",
       "      <td>NaN</td>\n",
       "      <td>NaN</td>\n",
       "    </tr>\n",
       "    <tr>\n",
       "      <td>3</td>\n",
       "      <td>20410338</td>\n",
       "      <td>INVSTG</td>\n",
       "      <td>ISR000410338</td>\n",
       "      <td>01-JAN-2018 00:10</td>\n",
       "      <td>0</td>\n",
       "      <td>6738</td>\n",
       "      <td>N</td>\n",
       "      <td>BLACK LONGSLEEVE SHIRT, GREY JEANS</td>\n",
       "      <td>Y</td>\n",
       "      <td>NaN</td>\n",
       "      <td>...</td>\n",
       "      <td>NaN</td>\n",
       "      <td>N</td>\n",
       "      <td>NaN</td>\n",
       "      <td>NaN</td>\n",
       "      <td>NaN</td>\n",
       "      <td>NaN</td>\n",
       "      <td>NaN</td>\n",
       "      <td>NaN</td>\n",
       "      <td>NaN</td>\n",
       "      <td>ORCHESTRA ALBANY</td>\n",
       "    </tr>\n",
       "    <tr>\n",
       "      <td>4</td>\n",
       "      <td>20410352</td>\n",
       "      <td>INVSTG</td>\n",
       "      <td>ISR000410352</td>\n",
       "      <td>01-JAN-2018 00:30</td>\n",
       "      <td>0</td>\n",
       "      <td>0767</td>\n",
       "      <td>N</td>\n",
       "      <td>WHITE SOX HAT, BLACK JACKET, BLACK JEANS</td>\n",
       "      <td>Y</td>\n",
       "      <td>NaN</td>\n",
       "      <td>...</td>\n",
       "      <td>NaN</td>\n",
       "      <td>N</td>\n",
       "      <td>NaN</td>\n",
       "      <td>NaN</td>\n",
       "      <td>NaN</td>\n",
       "      <td>NaN</td>\n",
       "      <td>NaN</td>\n",
       "      <td>NaN</td>\n",
       "      <td>NaN</td>\n",
       "      <td>NaN</td>\n",
       "    </tr>\n",
       "  </tbody>\n",
       "</table>\n",
       "<p>5 rows × 136 columns</p>\n",
       "</div>"
      ],
      "text/plain": [
       "   CONTACT_CARD_ID CONTACT_TYPE_CD       CARD_NO       CONTACT_DATE  \\\n",
       "0         20410357          INVSTG  ISR000410357  01-JAN-2018 00:08   \n",
       "1         20410350          INVSTG  ISR000410350  01-JAN-2018 00:08   \n",
       "2         20410351          INVSTG  ISR000410351  01-JAN-2018 00:08   \n",
       "3         20410338          INVSTG  ISR000410338  01-JAN-2018 00:10   \n",
       "4         20410352          INVSTG  ISR000410352  01-JAN-2018 00:30   \n",
       "\n",
       "   CONTACT_HOUR SUBMITTING_BEAT_CD JUVENILE_I  \\\n",
       "0             0               2523          N   \n",
       "1             0               2523          N   \n",
       "2             0               2523          N   \n",
       "3             0               6738          N   \n",
       "4             0               0767          N   \n",
       "\n",
       "                             CLOTHING_DESCR NAME_VERIFIED_I     RD_NO  ...  \\\n",
       "0                       BROWN JACKET, JEANS             NaN  JB100012  ...   \n",
       "1            BLUE JEANS AND A BLACK SWEATER             NaN  JB100012  ...   \n",
       "2                GRAY HOODED SWEATER, JEANS             NaN  JB100012  ...   \n",
       "3        BLACK LONGSLEEVE SHIRT, GREY JEANS               Y       NaN  ...   \n",
       "4  WHITE SOX HAT, BLACK JACKET, BLACK JEANS               Y       NaN  ...   \n",
       "\n",
       "  STOLEN_PROPERTY_I  SEARCH_PROPERTY_I S_ALCOHOL_I  S_PARA_I  \\\n",
       "0               NaN                  N         NaN       NaN   \n",
       "1               NaN                  N         NaN       NaN   \n",
       "2               NaN                  N         NaN       NaN   \n",
       "3               NaN                  N         NaN       NaN   \n",
       "4               NaN                  N         NaN       NaN   \n",
       "\n",
       "   S_STOLEN_PROPERTY_I GANG_OTHER  OTHER_DESCR S_OTHER_I  S_OTHER_DESCR  \\\n",
       "0                  NaN    UNKNOWN          NaN       NaN            NaN   \n",
       "1                  NaN        NaN          NaN       NaN            NaN   \n",
       "2                  NaN    UNKNOWN          NaN       NaN            NaN   \n",
       "3                  NaN        NaN          NaN       NaN            NaN   \n",
       "4                  NaN        NaN          NaN       NaN            NaN   \n",
       "\n",
       "               NAME  \n",
       "0               NaN  \n",
       "1               NaN  \n",
       "2               NaN  \n",
       "3  ORCHESTRA ALBANY  \n",
       "4               NaN  \n",
       "\n",
       "[5 rows x 136 columns]"
      ]
     },
     "execution_count": 2,
     "metadata": {},
     "output_type": "execute_result"
    }
   ],
   "source": [
    "df_clean = pd.read_csv('ISR_data_clean.csv',low_memory=False)\n",
    "df_clean.head()"
   ]
  },
  {
   "cell_type": "code",
   "execution_count": null,
   "metadata": {},
   "outputs": [],
   "source": [
    "# exploring further from our EDA"
   ]
  },
  {
   "cell_type": "code",
   "execution_count": 3,
   "metadata": {},
   "outputs": [
    {
     "data": {
      "text/plain": [
       "<matplotlib.axes._subplots.AxesSubplot at 0x7fc457ff2a10>"
      ]
     },
     "execution_count": 3,
     "metadata": {},
     "output_type": "execute_result"
    },
    {
     "data": {
      "image/png": "[encoded data removed]",
      "text/plain": [
       "<Figure size 576x432 with 1 Axes>"
      ]
     },
     "metadata": {
      "needs_background": "light"
     },
     "output_type": "display_data"
    }
   ],
   "source": [
    "df_clean.groupby([\"RACE_CODE_CD\",\"ENFORCEMENT_ACTION_TAKEN_I\"]).size().unstack().plot(kind='bar', stacked=True, figsize=(8,6),fontsize=14) \n",
    "\n",
    "# add percentages to this\n",
    "# compare numbers below (and percenages overall) to demographics of Chicago"
   ]
  },
  {
   "cell_type": "code",
   "execution_count": 4,
   "metadata": {},
   "outputs": [
    {
     "data": {
      "text/plain": [
       "<matplotlib.axes._subplots.AxesSubplot at 0x7fc467b49210>"
      ]
     },
     "execution_count": 4,
     "metadata": {},
     "output_type": "execute_result"
    },
    {
     "data": {
      "image/png": "[encoded data removed]",
      "text/plain": [
       "<Figure size 864x432 with 1 Axes>"
      ]
     },
     "metadata": {
      "needs_background": "light"
     },
     "output_type": "display_data"
    }
   ],
   "source": [
    "df_clean.groupby([\"CONTACT_HOUR\",\"ENFORCEMENT_TYPE_CD\"]).size().unstack().plot(kind='bar', stacked=True, figsize=(12,6),fontsize=12)"
   ]
  },
  {
   "cell_type": "code",
   "execution_count": 5,
   "metadata": {},
   "outputs": [
    {
     "data": {
      "text/html": [
       "<div>\n",
       "<style scoped>\n",
       "    .dataframe tbody tr th:only-of-type {\n",
       "        vertical-align: middle;\n",
       "    }\n",
       "\n",
       "    .dataframe tbody tr th {\n",
       "        vertical-align: top;\n",
       "    }\n",
       "\n",
       "    .dataframe thead th {\n",
       "        text-align: right;\n",
       "    }\n",
       "</style>\n",
       "<table border=\"1\" class=\"dataframe\">\n",
       "  <thead>\n",
       "    <tr style=\"text-align: right;\">\n",
       "      <th></th>\n",
       "      <th>CONTACT_CARD_ID</th>\n",
       "      <th>CONTACT_TYPE_CD</th>\n",
       "      <th>CARD_NO</th>\n",
       "      <th>CONTACT_DATE</th>\n",
       "      <th>CONTACT_HOUR</th>\n",
       "      <th>SUBMITTING_BEAT_CD</th>\n",
       "      <th>JUVENILE_I</th>\n",
       "      <th>CLOTHING_DESCR</th>\n",
       "      <th>NAME_VERIFIED_I</th>\n",
       "      <th>RD_NO</th>\n",
       "      <th>...</th>\n",
       "      <th>STOLEN_PROPERTY_I</th>\n",
       "      <th>SEARCH_PROPERTY_I</th>\n",
       "      <th>S_ALCOHOL_I</th>\n",
       "      <th>S_PARA_I</th>\n",
       "      <th>S_STOLEN_PROPERTY_I</th>\n",
       "      <th>GANG_OTHER</th>\n",
       "      <th>OTHER_DESCR</th>\n",
       "      <th>S_OTHER_I</th>\n",
       "      <th>S_OTHER_DESCR</th>\n",
       "      <th>NAME</th>\n",
       "    </tr>\n",
       "  </thead>\n",
       "  <tbody>\n",
       "    <tr>\n",
       "      <td>8</td>\n",
       "      <td>20410600</td>\n",
       "      <td>INVSTG</td>\n",
       "      <td>ISR000410600</td>\n",
       "      <td>01-JAN-2018 00:35</td>\n",
       "      <td>0</td>\n",
       "      <td>1461</td>\n",
       "      <td>N</td>\n",
       "      <td>GRAY SWEATER</td>\n",
       "      <td>NaN</td>\n",
       "      <td>JA100059</td>\n",
       "      <td>...</td>\n",
       "      <td>NaN</td>\n",
       "      <td>Y</td>\n",
       "      <td>NaN</td>\n",
       "      <td>NaN</td>\n",
       "      <td>NaN</td>\n",
       "      <td>NaN</td>\n",
       "      <td>NaN</td>\n",
       "      <td>NaN</td>\n",
       "      <td>NaN</td>\n",
       "      <td>NaN</td>\n",
       "    </tr>\n",
       "    <tr>\n",
       "      <td>9</td>\n",
       "      <td>20410598</td>\n",
       "      <td>INVSTG</td>\n",
       "      <td>ISR000410598</td>\n",
       "      <td>01-JAN-2018 00:35</td>\n",
       "      <td>0</td>\n",
       "      <td>1461</td>\n",
       "      <td>N</td>\n",
       "      <td>WHITE SHIRT</td>\n",
       "      <td>NaN</td>\n",
       "      <td>JB100059</td>\n",
       "      <td>...</td>\n",
       "      <td>NaN</td>\n",
       "      <td>Y</td>\n",
       "      <td>NaN</td>\n",
       "      <td>NaN</td>\n",
       "      <td>NaN</td>\n",
       "      <td>NaN</td>\n",
       "      <td>NaN</td>\n",
       "      <td>NaN</td>\n",
       "      <td>NaN</td>\n",
       "      <td>NaN</td>\n",
       "    </tr>\n",
       "    <tr>\n",
       "      <td>10</td>\n",
       "      <td>20410597</td>\n",
       "      <td>INVSTG</td>\n",
       "      <td>ISR000410597</td>\n",
       "      <td>01-JAN-2018 00:38</td>\n",
       "      <td>0</td>\n",
       "      <td>1461</td>\n",
       "      <td>N</td>\n",
       "      <td>BLACK AND GRAY HOODED SWEATER</td>\n",
       "      <td>NaN</td>\n",
       "      <td>JB100059</td>\n",
       "      <td>...</td>\n",
       "      <td>NaN</td>\n",
       "      <td>Y</td>\n",
       "      <td>NaN</td>\n",
       "      <td>NaN</td>\n",
       "      <td>NaN</td>\n",
       "      <td>NaN</td>\n",
       "      <td>NaN</td>\n",
       "      <td>NaN</td>\n",
       "      <td>NaN</td>\n",
       "      <td>NaN</td>\n",
       "    </tr>\n",
       "    <tr>\n",
       "      <td>13</td>\n",
       "      <td>20410354</td>\n",
       "      <td>INVSTG</td>\n",
       "      <td>ISR000410354</td>\n",
       "      <td>01-JAN-2018 00:52</td>\n",
       "      <td>0</td>\n",
       "      <td>913R</td>\n",
       "      <td>N</td>\n",
       "      <td>BLACK JACKET / BLACK AND BLUE JOGGING PANTS</td>\n",
       "      <td>NaN</td>\n",
       "      <td>JB100070</td>\n",
       "      <td>...</td>\n",
       "      <td>NaN</td>\n",
       "      <td>Y</td>\n",
       "      <td>NaN</td>\n",
       "      <td>NaN</td>\n",
       "      <td>NaN</td>\n",
       "      <td>NaN</td>\n",
       "      <td>NaN</td>\n",
       "      <td>NaN</td>\n",
       "      <td>NaN</td>\n",
       "      <td>NaN</td>\n",
       "    </tr>\n",
       "    <tr>\n",
       "      <td>19</td>\n",
       "      <td>20410382</td>\n",
       "      <td>INVSTG</td>\n",
       "      <td>ISR000410382</td>\n",
       "      <td>01-JAN-2018 01:05</td>\n",
       "      <td>1</td>\n",
       "      <td>6717</td>\n",
       "      <td>N</td>\n",
       "      <td>RED HOODY, BLUE JEANS</td>\n",
       "      <td>NaN</td>\n",
       "      <td>NaN</td>\n",
       "      <td>...</td>\n",
       "      <td>NaN</td>\n",
       "      <td>Y</td>\n",
       "      <td>NaN</td>\n",
       "      <td>NaN</td>\n",
       "      <td>NaN</td>\n",
       "      <td>NaN</td>\n",
       "      <td>NaN</td>\n",
       "      <td>NaN</td>\n",
       "      <td>NaN</td>\n",
       "      <td>GANGSTER DISCIPLES</td>\n",
       "    </tr>\n",
       "  </tbody>\n",
       "</table>\n",
       "<p>5 rows × 136 columns</p>\n",
       "</div>"
      ],
      "text/plain": [
       "    CONTACT_CARD_ID CONTACT_TYPE_CD       CARD_NO       CONTACT_DATE  \\\n",
       "8          20410600          INVSTG  ISR000410600  01-JAN-2018 00:35   \n",
       "9          20410598          INVSTG  ISR000410598  01-JAN-2018 00:35   \n",
       "10         20410597          INVSTG  ISR000410597  01-JAN-2018 00:38   \n",
       "13         20410354          INVSTG  ISR000410354  01-JAN-2018 00:52   \n",
       "19         20410382          INVSTG  ISR000410382  01-JAN-2018 01:05   \n",
       "\n",
       "    CONTACT_HOUR SUBMITTING_BEAT_CD JUVENILE_I  \\\n",
       "8              0               1461          N   \n",
       "9              0               1461          N   \n",
       "10             0               1461          N   \n",
       "13             0               913R          N   \n",
       "19             1               6717          N   \n",
       "\n",
       "                                 CLOTHING_DESCR NAME_VERIFIED_I     RD_NO  \\\n",
       "8                                  GRAY SWEATER             NaN  JA100059   \n",
       "9                                   WHITE SHIRT             NaN  JB100059   \n",
       "10                BLACK AND GRAY HOODED SWEATER             NaN  JB100059   \n",
       "13  BLACK JACKET / BLACK AND BLUE JOGGING PANTS             NaN  JB100070   \n",
       "19                        RED HOODY, BLUE JEANS             NaN       NaN   \n",
       "\n",
       "    ... STOLEN_PROPERTY_I  SEARCH_PROPERTY_I S_ALCOHOL_I  S_PARA_I  \\\n",
       "8   ...               NaN                  Y         NaN       NaN   \n",
       "9   ...               NaN                  Y         NaN       NaN   \n",
       "10  ...               NaN                  Y         NaN       NaN   \n",
       "13  ...               NaN                  Y         NaN       NaN   \n",
       "19  ...               NaN                  Y         NaN       NaN   \n",
       "\n",
       "    S_STOLEN_PROPERTY_I GANG_OTHER  OTHER_DESCR S_OTHER_I  S_OTHER_DESCR  \\\n",
       "8                   NaN        NaN          NaN       NaN            NaN   \n",
       "9                   NaN        NaN          NaN       NaN            NaN   \n",
       "10                  NaN        NaN          NaN       NaN            NaN   \n",
       "13                  NaN        NaN          NaN       NaN            NaN   \n",
       "19                  NaN        NaN          NaN       NaN            NaN   \n",
       "\n",
       "                  NAME  \n",
       "8                  NaN  \n",
       "9                  NaN  \n",
       "10                 NaN  \n",
       "13                 NaN  \n",
       "19  GANGSTER DISCIPLES  \n",
       "\n",
       "[5 rows x 136 columns]"
      ]
     },
     "execution_count": 5,
     "metadata": {},
     "output_type": "execute_result"
    }
   ],
   "source": [
    "# next, limit this to arrests only\n",
    "\n",
    "arrests_only = df_clean.loc[df_clean[\"ENFORCEMENT_TYPE_CD\"] == \"ARR\"]\n",
    "arrests_only.head()"
   ]
  },
  {
   "cell_type": "code",
   "execution_count": 6,
   "metadata": {},
   "outputs": [
    {
     "data": {
      "text/plain": [
       "<matplotlib.axes._subplots.AxesSubplot at 0x7fc467e28b50>"
      ]
     },
     "execution_count": 6,
     "metadata": {},
     "output_type": "execute_result"
    },
    {
     "data": {
      "image/png": "[encoded data removed]",
      "text/plain": [
       "<Figure size 864x432 with 1 Axes>"
      ]
     },
     "metadata": {
      "needs_background": "light"
     },
     "output_type": "display_data"
    }
   ],
   "source": [
    "arrests_only.groupby([\"CONTACT_HOUR\",\"RACE_CODE_CD\"]).size().unstack().plot(kind='bar', stacked=True, figsize=(12,6),fontsize=12)\n",
    "# this is a combo of the previous charts\n",
    "# arrests only (so action taken is also Y), looking at race and hour"
   ]
  },
  {
   "cell_type": "code",
   "execution_count": 7,
   "metadata": {},
   "outputs": [
    {
     "data": {
      "text/plain": [
       "<matplotlib.axes._subplots.AxesSubplot at 0x7fc46a0959d0>"
      ]
     },
     "execution_count": 7,
     "metadata": {},
     "output_type": "execute_result"
    },
    {
     "data": {
      "image/png": "[encoded data removed]",
      "text/plain": [
       "<Figure size 864x432 with 1 Axes>"
      ]
     },
     "metadata": {
      "needs_background": "light"
     },
     "output_type": "display_data"
    }
   ],
   "source": [
    "df_clean.groupby([\"ZIP_CD\",\"ENFORCEMENT_TYPE_CD\"]).size().unstack().plot(kind='bar', stacked=True, figsize=(12,6),fontsize=12)"
   ]
  },
  {
   "cell_type": "code",
   "execution_count": null,
   "metadata": {},
   "outputs": [],
   "source": [
    "# create basic model using these three columns\n",
    "# how accurate can we get (arrest or not) using only race, zipcode and contact hour?"
   ]
  },
  {
   "cell_type": "code",
   "execution_count": 8,
   "metadata": {},
   "outputs": [
    {
     "data": {
      "text/html": [
       "<div>\n",
       "<style scoped>\n",
       "    .dataframe tbody tr th:only-of-type {\n",
       "        vertical-align: middle;\n",
       "    }\n",
       "\n",
       "    .dataframe tbody tr th {\n",
       "        vertical-align: top;\n",
       "    }\n",
       "\n",
       "    .dataframe thead th {\n",
       "        text-align: right;\n",
       "    }\n",
       "</style>\n",
       "<table border=\"1\" class=\"dataframe\">\n",
       "  <thead>\n",
       "    <tr style=\"text-align: right;\">\n",
       "      <th></th>\n",
       "      <th>ZIP_CD</th>\n",
       "      <th>ENFORCEMENT_TYPE_CD</th>\n",
       "      <th>CONTACT_HOUR</th>\n",
       "      <th>RACE_CODE_CD</th>\n",
       "    </tr>\n",
       "  </thead>\n",
       "  <tbody>\n",
       "    <tr>\n",
       "      <td>0</td>\n",
       "      <td>60641</td>\n",
       "      <td>NaN</td>\n",
       "      <td>0</td>\n",
       "      <td>WWH</td>\n",
       "    </tr>\n",
       "    <tr>\n",
       "      <td>1</td>\n",
       "      <td>60641</td>\n",
       "      <td>NaN</td>\n",
       "      <td>0</td>\n",
       "      <td>WWH</td>\n",
       "    </tr>\n",
       "    <tr>\n",
       "      <td>2</td>\n",
       "      <td>60641</td>\n",
       "      <td>NaN</td>\n",
       "      <td>0</td>\n",
       "      <td>WWH</td>\n",
       "    </tr>\n",
       "    <tr>\n",
       "      <td>3</td>\n",
       "      <td>60634</td>\n",
       "      <td>NaN</td>\n",
       "      <td>0</td>\n",
       "      <td>WWH</td>\n",
       "    </tr>\n",
       "    <tr>\n",
       "      <td>4</td>\n",
       "      <td>60621</td>\n",
       "      <td>NaN</td>\n",
       "      <td>0</td>\n",
       "      <td>BLK</td>\n",
       "    </tr>\n",
       "  </tbody>\n",
       "</table>\n",
       "</div>"
      ],
      "text/plain": [
       "  ZIP_CD ENFORCEMENT_TYPE_CD  CONTACT_HOUR RACE_CODE_CD\n",
       "0  60641                 NaN             0          WWH\n",
       "1  60641                 NaN             0          WWH\n",
       "2  60641                 NaN             0          WWH\n",
       "3  60634                 NaN             0          WWH\n",
       "4  60621                 NaN             0          BLK"
      ]
     },
     "execution_count": 8,
     "metadata": {},
     "output_type": "execute_result"
    }
   ],
   "source": [
    "first_model = df_clean[[\"ZIP_CD\",\"ENFORCEMENT_TYPE_CD\",\"CONTACT_HOUR\", \"RACE_CODE_CD\"]]\n",
    "first_model.head()"
   ]
  },
  {
   "cell_type": "code",
   "execution_count": null,
   "metadata": {},
   "outputs": [],
   "source": [
    "# remove rows with missing zipcode\n",
    "# change enforcement_type_cd to binary\n",
    "# missing, anything but arr = 0?"
   ]
  },
  {
   "cell_type": "code",
   "execution_count": 9,
   "metadata": {},
   "outputs": [
    {
     "name": "stdout",
     "output_type": "stream",
     "text": [
      "<class 'pandas.core.frame.DataFrame'>\n",
      "Int64Index: 289734 entries, 0 to 290144\n",
      "Data columns (total 4 columns):\n",
      "ZIP_CD                 289734 non-null object\n",
      "ENFORCEMENT_TYPE_CD    67459 non-null object\n",
      "CONTACT_HOUR           289734 non-null int64\n",
      "RACE_CODE_CD           289734 non-null object\n",
      "dtypes: int64(1), object(3)\n",
      "memory usage: 11.1+ MB\n"
     ]
    },
    {
     "name": "stderr",
     "output_type": "stream",
     "text": [
      "/Users/mac/Downloads/anaconda3/lib/python3.7/site-packages/ipykernel_launcher.py:1: SettingWithCopyWarning: \n",
      "A value is trying to be set on a copy of a slice from a DataFrame\n",
      "\n",
      "See the caveats in the documentation: http://pandas.pydata.org/pandas-docs/stable/user_guide/indexing.html#returning-a-view-versus-a-copy\n",
      "  \"\"\"Entry point for launching an IPython kernel.\n"
     ]
    }
   ],
   "source": [
    "first_model.dropna(subset = [\"ZIP_CD\"], axis=0, inplace=True)\n",
    "first_model.info()"
   ]
  },
  {
   "cell_type": "code",
   "execution_count": 10,
   "metadata": {},
   "outputs": [
    {
     "name": "stdout",
     "output_type": "stream",
     "text": [
      "<class 'pandas.core.frame.DataFrame'>\n",
      "Int64Index: 67459 entries, 8 to 290144\n",
      "Data columns (total 4 columns):\n",
      "ZIP_CD                 67459 non-null object\n",
      "ENFORCEMENT_TYPE_CD    67459 non-null object\n",
      "CONTACT_HOUR           67459 non-null int64\n",
      "RACE_CODE_CD           67459 non-null object\n",
      "dtypes: int64(1), object(3)\n",
      "memory usage: 2.6+ MB\n"
     ]
    },
    {
     "name": "stderr",
     "output_type": "stream",
     "text": [
      "/Users/mac/Downloads/anaconda3/lib/python3.7/site-packages/ipykernel_launcher.py:3: SettingWithCopyWarning: \n",
      "A value is trying to be set on a copy of a slice from a DataFrame\n",
      "\n",
      "See the caveats in the documentation: http://pandas.pydata.org/pandas-docs/stable/user_guide/indexing.html#returning-a-view-versus-a-copy\n",
      "  This is separate from the ipykernel package so we can avoid doing imports until\n"
     ]
    }
   ],
   "source": [
    "# we have 67k lines with enforcement type - plenty to go off of!\n",
    "\n",
    "first_model.dropna(subset = [\"ENFORCEMENT_TYPE_CD\"], axis=0, inplace=True)\n",
    "first_model.info()"
   ]
  },
  {
   "cell_type": "code",
   "execution_count": 11,
   "metadata": {},
   "outputs": [
    {
     "data": {
      "text/html": [
       "<div>\n",
       "<style scoped>\n",
       "    .dataframe tbody tr th:only-of-type {\n",
       "        vertical-align: middle;\n",
       "    }\n",
       "\n",
       "    .dataframe tbody tr th {\n",
       "        vertical-align: top;\n",
       "    }\n",
       "\n",
       "    .dataframe thead th {\n",
       "        text-align: right;\n",
       "    }\n",
       "</style>\n",
       "<table border=\"1\" class=\"dataframe\">\n",
       "  <thead>\n",
       "    <tr style=\"text-align: right;\">\n",
       "      <th></th>\n",
       "      <th>ZIP_CD</th>\n",
       "      <th>ENFORCEMENT_TYPE_CD</th>\n",
       "      <th>CONTACT_HOUR</th>\n",
       "      <th>RACE_CODE_CD</th>\n",
       "    </tr>\n",
       "  </thead>\n",
       "  <tbody>\n",
       "    <tr>\n",
       "      <td>0</td>\n",
       "      <td>60647</td>\n",
       "      <td>ARR</td>\n",
       "      <td>0</td>\n",
       "      <td>BLK</td>\n",
       "    </tr>\n",
       "    <tr>\n",
       "      <td>1</td>\n",
       "      <td>60647</td>\n",
       "      <td>ARR</td>\n",
       "      <td>0</td>\n",
       "      <td>BLK</td>\n",
       "    </tr>\n",
       "    <tr>\n",
       "      <td>2</td>\n",
       "      <td>60647</td>\n",
       "      <td>ARR</td>\n",
       "      <td>0</td>\n",
       "      <td>BLK</td>\n",
       "    </tr>\n",
       "    <tr>\n",
       "      <td>3</td>\n",
       "      <td>60610</td>\n",
       "      <td>OTH</td>\n",
       "      <td>0</td>\n",
       "      <td>WWH</td>\n",
       "    </tr>\n",
       "    <tr>\n",
       "      <td>4</td>\n",
       "      <td>60610</td>\n",
       "      <td>OTH</td>\n",
       "      <td>0</td>\n",
       "      <td>BLK</td>\n",
       "    </tr>\n",
       "  </tbody>\n",
       "</table>\n",
       "</div>"
      ],
      "text/plain": [
       "  ZIP_CD ENFORCEMENT_TYPE_CD  CONTACT_HOUR RACE_CODE_CD\n",
       "0  60647                 ARR             0          BLK\n",
       "1  60647                 ARR             0          BLK\n",
       "2  60647                 ARR             0          BLK\n",
       "3  60610                 OTH             0          WWH\n",
       "4  60610                 OTH             0          BLK"
      ]
     },
     "execution_count": 11,
     "metadata": {},
     "output_type": "execute_result"
    }
   ],
   "source": [
    "# re-setting our axis\n",
    "\n",
    "first_model.reset_index(drop=True, inplace=True)\n",
    "first_model.head()"
   ]
  },
  {
   "cell_type": "code",
   "execution_count": 12,
   "metadata": {},
   "outputs": [
    {
     "name": "stderr",
     "output_type": "stream",
     "text": [
      "/Users/mac/Downloads/anaconda3/lib/python3.7/site-packages/ipykernel_launcher.py:3: SettingWithCopyWarning: \n",
      "A value is trying to be set on a copy of a slice from a DataFrame.\n",
      "Try using .loc[row_indexer,col_indexer] = value instead\n",
      "\n",
      "See the caveats in the documentation: http://pandas.pydata.org/pandas-docs/stable/user_guide/indexing.html#returning-a-view-versus-a-copy\n",
      "  This is separate from the ipykernel package so we can avoid doing imports until\n"
     ]
    },
    {
     "data": {
      "text/html": [
       "<div>\n",
       "<style scoped>\n",
       "    .dataframe tbody tr th:only-of-type {\n",
       "        vertical-align: middle;\n",
       "    }\n",
       "\n",
       "    .dataframe tbody tr th {\n",
       "        vertical-align: top;\n",
       "    }\n",
       "\n",
       "    .dataframe thead th {\n",
       "        text-align: right;\n",
       "    }\n",
       "</style>\n",
       "<table border=\"1\" class=\"dataframe\">\n",
       "  <thead>\n",
       "    <tr style=\"text-align: right;\">\n",
       "      <th></th>\n",
       "      <th>ZIP_CD</th>\n",
       "      <th>ENFORCEMENT_TYPE_CD</th>\n",
       "      <th>CONTACT_HOUR</th>\n",
       "      <th>RACE_CODE_CD</th>\n",
       "      <th>TARGET</th>\n",
       "    </tr>\n",
       "  </thead>\n",
       "  <tbody>\n",
       "    <tr>\n",
       "      <td>0</td>\n",
       "      <td>60647</td>\n",
       "      <td>ARR</td>\n",
       "      <td>0</td>\n",
       "      <td>BLK</td>\n",
       "      <td>1</td>\n",
       "    </tr>\n",
       "    <tr>\n",
       "      <td>1</td>\n",
       "      <td>60647</td>\n",
       "      <td>ARR</td>\n",
       "      <td>0</td>\n",
       "      <td>BLK</td>\n",
       "      <td>1</td>\n",
       "    </tr>\n",
       "    <tr>\n",
       "      <td>2</td>\n",
       "      <td>60647</td>\n",
       "      <td>ARR</td>\n",
       "      <td>0</td>\n",
       "      <td>BLK</td>\n",
       "      <td>1</td>\n",
       "    </tr>\n",
       "    <tr>\n",
       "      <td>3</td>\n",
       "      <td>60610</td>\n",
       "      <td>OTH</td>\n",
       "      <td>0</td>\n",
       "      <td>WWH</td>\n",
       "      <td>0</td>\n",
       "    </tr>\n",
       "    <tr>\n",
       "      <td>4</td>\n",
       "      <td>60610</td>\n",
       "      <td>OTH</td>\n",
       "      <td>0</td>\n",
       "      <td>BLK</td>\n",
       "      <td>0</td>\n",
       "    </tr>\n",
       "  </tbody>\n",
       "</table>\n",
       "</div>"
      ],
      "text/plain": [
       "  ZIP_CD ENFORCEMENT_TYPE_CD  CONTACT_HOUR RACE_CODE_CD  TARGET\n",
       "0  60647                 ARR             0          BLK       1\n",
       "1  60647                 ARR             0          BLK       1\n",
       "2  60647                 ARR             0          BLK       1\n",
       "3  60610                 OTH             0          WWH       0\n",
       "4  60610                 OTH             0          BLK       0"
      ]
     },
     "execution_count": 12,
     "metadata": {},
     "output_type": "execute_result"
    }
   ],
   "source": [
    "# now, create a target column\n",
    "\n",
    "first_model['TARGET'] = np.where(first_model['ENFORCEMENT_TYPE_CD'] == 'ARR', 1, 0)\n",
    "first_model.head()"
   ]
  },
  {
   "cell_type": "code",
   "execution_count": 13,
   "metadata": {},
   "outputs": [
    {
     "name": "stderr",
     "output_type": "stream",
     "text": [
      "/Users/mac/Downloads/anaconda3/lib/python3.7/site-packages/pandas/core/frame.py:4102: SettingWithCopyWarning: \n",
      "A value is trying to be set on a copy of a slice from a DataFrame\n",
      "\n",
      "See the caveats in the documentation: http://pandas.pydata.org/pandas-docs/stable/user_guide/indexing.html#returning-a-view-versus-a-copy\n",
      "  errors=errors,\n"
     ]
    },
    {
     "data": {
      "text/html": [
       "<div>\n",
       "<style scoped>\n",
       "    .dataframe tbody tr th:only-of-type {\n",
       "        vertical-align: middle;\n",
       "    }\n",
       "\n",
       "    .dataframe tbody tr th {\n",
       "        vertical-align: top;\n",
       "    }\n",
       "\n",
       "    .dataframe thead th {\n",
       "        text-align: right;\n",
       "    }\n",
       "</style>\n",
       "<table border=\"1\" class=\"dataframe\">\n",
       "  <thead>\n",
       "    <tr style=\"text-align: right;\">\n",
       "      <th></th>\n",
       "      <th>ZIP_CD</th>\n",
       "      <th>CONTACT_HOUR</th>\n",
       "      <th>RACE_CODE_CD</th>\n",
       "      <th>TARGET</th>\n",
       "    </tr>\n",
       "  </thead>\n",
       "  <tbody>\n",
       "    <tr>\n",
       "      <td>0</td>\n",
       "      <td>60647</td>\n",
       "      <td>0</td>\n",
       "      <td>BLK</td>\n",
       "      <td>1</td>\n",
       "    </tr>\n",
       "    <tr>\n",
       "      <td>1</td>\n",
       "      <td>60647</td>\n",
       "      <td>0</td>\n",
       "      <td>BLK</td>\n",
       "      <td>1</td>\n",
       "    </tr>\n",
       "    <tr>\n",
       "      <td>2</td>\n",
       "      <td>60647</td>\n",
       "      <td>0</td>\n",
       "      <td>BLK</td>\n",
       "      <td>1</td>\n",
       "    </tr>\n",
       "    <tr>\n",
       "      <td>3</td>\n",
       "      <td>60610</td>\n",
       "      <td>0</td>\n",
       "      <td>WWH</td>\n",
       "      <td>0</td>\n",
       "    </tr>\n",
       "    <tr>\n",
       "      <td>4</td>\n",
       "      <td>60610</td>\n",
       "      <td>0</td>\n",
       "      <td>BLK</td>\n",
       "      <td>0</td>\n",
       "    </tr>\n",
       "  </tbody>\n",
       "</table>\n",
       "</div>"
      ],
      "text/plain": [
       "  ZIP_CD  CONTACT_HOUR RACE_CODE_CD  TARGET\n",
       "0  60647             0          BLK       1\n",
       "1  60647             0          BLK       1\n",
       "2  60647             0          BLK       1\n",
       "3  60610             0          WWH       0\n",
       "4  60610             0          BLK       0"
      ]
     },
     "execution_count": 13,
     "metadata": {},
     "output_type": "execute_result"
    }
   ],
   "source": [
    "# we're going to drop the enforcement type column now\n",
    "# since this informed our target, we'll need to remove that from our model or risk leakage\n",
    "\n",
    "first_model.drop(columns = [\"ENFORCEMENT_TYPE_CD\"], axis=0, inplace=True)\n",
    "first_model.head()"
   ]
  },
  {
   "cell_type": "code",
   "execution_count": 14,
   "metadata": {},
   "outputs": [],
   "source": [
    "y = first_model['TARGET']"
   ]
  },
  {
   "cell_type": "code",
   "execution_count": 15,
   "metadata": {},
   "outputs": [
    {
     "data": {
      "text/html": [
       "<div>\n",
       "<style scoped>\n",
       "    .dataframe tbody tr th:only-of-type {\n",
       "        vertical-align: middle;\n",
       "    }\n",
       "\n",
       "    .dataframe tbody tr th {\n",
       "        vertical-align: top;\n",
       "    }\n",
       "\n",
       "    .dataframe thead th {\n",
       "        text-align: right;\n",
       "    }\n",
       "</style>\n",
       "<table border=\"1\" class=\"dataframe\">\n",
       "  <thead>\n",
       "    <tr style=\"text-align: right;\">\n",
       "      <th></th>\n",
       "      <th>ZIP_CD</th>\n",
       "      <th>CONTACT_HOUR</th>\n",
       "      <th>RACE_CODE_CD</th>\n",
       "    </tr>\n",
       "  </thead>\n",
       "  <tbody>\n",
       "    <tr>\n",
       "      <td>0</td>\n",
       "      <td>60647</td>\n",
       "      <td>0</td>\n",
       "      <td>BLK</td>\n",
       "    </tr>\n",
       "    <tr>\n",
       "      <td>1</td>\n",
       "      <td>60647</td>\n",
       "      <td>0</td>\n",
       "      <td>BLK</td>\n",
       "    </tr>\n",
       "    <tr>\n",
       "      <td>2</td>\n",
       "      <td>60647</td>\n",
       "      <td>0</td>\n",
       "      <td>BLK</td>\n",
       "    </tr>\n",
       "    <tr>\n",
       "      <td>3</td>\n",
       "      <td>60610</td>\n",
       "      <td>0</td>\n",
       "      <td>WWH</td>\n",
       "    </tr>\n",
       "    <tr>\n",
       "      <td>4</td>\n",
       "      <td>60610</td>\n",
       "      <td>0</td>\n",
       "      <td>BLK</td>\n",
       "    </tr>\n",
       "  </tbody>\n",
       "</table>\n",
       "</div>"
      ],
      "text/plain": [
       "  ZIP_CD  CONTACT_HOUR RACE_CODE_CD\n",
       "0  60647             0          BLK\n",
       "1  60647             0          BLK\n",
       "2  60647             0          BLK\n",
       "3  60610             0          WWH\n",
       "4  60610             0          BLK"
      ]
     },
     "execution_count": 15,
     "metadata": {},
     "output_type": "execute_result"
    }
   ],
   "source": [
    "first_model_data = first_model.drop([\"TARGET\"], axis = 1)\n",
    "first_model_data.head()"
   ]
  },
  {
   "cell_type": "code",
   "execution_count": null,
   "metadata": {},
   "outputs": [],
   "source": [
    "# move on to the model"
   ]
  },
  {
   "cell_type": "code",
   "execution_count": 16,
   "metadata": {},
   "outputs": [
    {
     "data": {
      "text/plain": [
       "ZIP_CD          0\n",
       "CONTACT_HOUR    0\n",
       "RACE_CODE_CD    0\n",
       "TARGET          0\n",
       "dtype: int64"
      ]
     },
     "execution_count": 16,
     "metadata": {},
     "output_type": "execute_result"
    }
   ],
   "source": [
    "first_model.isna().sum()"
   ]
  },
  {
   "cell_type": "code",
   "execution_count": 17,
   "metadata": {},
   "outputs": [
    {
     "data": {
      "text/html": [
       "<div>\n",
       "<style scoped>\n",
       "    .dataframe tbody tr th:only-of-type {\n",
       "        vertical-align: middle;\n",
       "    }\n",
       "\n",
       "    .dataframe tbody tr th {\n",
       "        vertical-align: top;\n",
       "    }\n",
       "\n",
       "    .dataframe thead th {\n",
       "        text-align: right;\n",
       "    }\n",
       "</style>\n",
       "<table border=\"1\" class=\"dataframe\">\n",
       "  <thead>\n",
       "    <tr style=\"text-align: right;\">\n",
       "      <th></th>\n",
       "      <th>ZIP_CD</th>\n",
       "      <th>CONTACT_HOUR</th>\n",
       "      <th>RACE_CODE_CD</th>\n",
       "    </tr>\n",
       "  </thead>\n",
       "  <tbody>\n",
       "    <tr>\n",
       "      <td>0</td>\n",
       "      <td>60647</td>\n",
       "      <td>0</td>\n",
       "      <td>BLK</td>\n",
       "    </tr>\n",
       "    <tr>\n",
       "      <td>1</td>\n",
       "      <td>60647</td>\n",
       "      <td>0</td>\n",
       "      <td>BLK</td>\n",
       "    </tr>\n",
       "    <tr>\n",
       "      <td>2</td>\n",
       "      <td>60647</td>\n",
       "      <td>0</td>\n",
       "      <td>BLK</td>\n",
       "    </tr>\n",
       "    <tr>\n",
       "      <td>3</td>\n",
       "      <td>60610</td>\n",
       "      <td>0</td>\n",
       "      <td>WWH</td>\n",
       "    </tr>\n",
       "    <tr>\n",
       "      <td>4</td>\n",
       "      <td>60610</td>\n",
       "      <td>0</td>\n",
       "      <td>BLK</td>\n",
       "    </tr>\n",
       "  </tbody>\n",
       "</table>\n",
       "</div>"
      ],
      "text/plain": [
       "  ZIP_CD  CONTACT_HOUR RACE_CODE_CD\n",
       "0  60647             0          BLK\n",
       "1  60647             0          BLK\n",
       "2  60647             0          BLK\n",
       "3  60610             0          WWH\n",
       "4  60610             0          BLK"
      ]
     },
     "execution_count": 17,
     "metadata": {},
     "output_type": "execute_result"
    }
   ],
   "source": [
    "# zip code, race code need to be one-hot encoded\n",
    "# (zip code is technically a number, but should be treated categorically)\n",
    "\n",
    "label_encoder = LabelEncoder()\n",
    "label_encoder = label_encoder.fit(y)\n",
    "label_encoded_y = label_encoder.transform(y)\n",
    "first_model_data.head()"
   ]
  },
  {
   "cell_type": "code",
   "execution_count": 18,
   "metadata": {},
   "outputs": [
    {
     "data": {
      "text/html": [
       "<div>\n",
       "<style scoped>\n",
       "    .dataframe tbody tr th:only-of-type {\n",
       "        vertical-align: middle;\n",
       "    }\n",
       "\n",
       "    .dataframe tbody tr th {\n",
       "        vertical-align: top;\n",
       "    }\n",
       "\n",
       "    .dataframe thead th {\n",
       "        text-align: right;\n",
       "    }\n",
       "</style>\n",
       "<table border=\"1\" class=\"dataframe\">\n",
       "  <thead>\n",
       "    <tr style=\"text-align: right;\">\n",
       "      <th></th>\n",
       "      <th>ZIP_CD</th>\n",
       "      <th>CONTACT_HOUR</th>\n",
       "      <th>RACE_CODE_CD</th>\n",
       "    </tr>\n",
       "  </thead>\n",
       "  <tbody>\n",
       "    <tr>\n",
       "      <td>0</td>\n",
       "      <td>60647</td>\n",
       "      <td>0</td>\n",
       "      <td>1</td>\n",
       "    </tr>\n",
       "    <tr>\n",
       "      <td>1</td>\n",
       "      <td>60647</td>\n",
       "      <td>0</td>\n",
       "      <td>1</td>\n",
       "    </tr>\n",
       "    <tr>\n",
       "      <td>2</td>\n",
       "      <td>60647</td>\n",
       "      <td>0</td>\n",
       "      <td>1</td>\n",
       "    </tr>\n",
       "    <tr>\n",
       "      <td>3</td>\n",
       "      <td>60610</td>\n",
       "      <td>0</td>\n",
       "      <td>8</td>\n",
       "    </tr>\n",
       "    <tr>\n",
       "      <td>4</td>\n",
       "      <td>60610</td>\n",
       "      <td>0</td>\n",
       "      <td>1</td>\n",
       "    </tr>\n",
       "  </tbody>\n",
       "</table>\n",
       "</div>"
      ],
      "text/plain": [
       "  ZIP_CD  CONTACT_HOUR  RACE_CODE_CD\n",
       "0  60647             0             1\n",
       "1  60647             0             1\n",
       "2  60647             0             1\n",
       "3  60610             0             8\n",
       "4  60610             0             1"
      ]
     },
     "execution_count": 18,
     "metadata": {},
     "output_type": "execute_result"
    }
   ],
   "source": [
    "first_model_data['RACE_CODE_CD'] = label_encoder.fit_transform(first_model_data['RACE_CODE_CD'])\n",
    "first_model_data.head()"
   ]
  },
  {
   "cell_type": "code",
   "execution_count": 19,
   "metadata": {},
   "outputs": [
    {
     "data": {
      "text/html": [
       "<div>\n",
       "<style scoped>\n",
       "    .dataframe tbody tr th:only-of-type {\n",
       "        vertical-align: middle;\n",
       "    }\n",
       "\n",
       "    .dataframe tbody tr th {\n",
       "        vertical-align: top;\n",
       "    }\n",
       "\n",
       "    .dataframe thead th {\n",
       "        text-align: right;\n",
       "    }\n",
       "</style>\n",
       "<table border=\"1\" class=\"dataframe\">\n",
       "  <thead>\n",
       "    <tr style=\"text-align: right;\">\n",
       "      <th></th>\n",
       "      <th>ZIP_CD</th>\n",
       "      <th>CONTACT_HOUR</th>\n",
       "      <th>RACE_CODE_CD_0</th>\n",
       "      <th>RACE_CODE_CD_1</th>\n",
       "      <th>RACE_CODE_CD_2</th>\n",
       "      <th>RACE_CODE_CD_3</th>\n",
       "      <th>RACE_CODE_CD_4</th>\n",
       "      <th>RACE_CODE_CD_5</th>\n",
       "      <th>RACE_CODE_CD_6</th>\n",
       "      <th>RACE_CODE_CD_7</th>\n",
       "      <th>RACE_CODE_CD_8</th>\n",
       "    </tr>\n",
       "  </thead>\n",
       "  <tbody>\n",
       "    <tr>\n",
       "      <td>0</td>\n",
       "      <td>60647</td>\n",
       "      <td>0</td>\n",
       "      <td>0</td>\n",
       "      <td>1</td>\n",
       "      <td>0</td>\n",
       "      <td>0</td>\n",
       "      <td>0</td>\n",
       "      <td>0</td>\n",
       "      <td>0</td>\n",
       "      <td>0</td>\n",
       "      <td>0</td>\n",
       "    </tr>\n",
       "    <tr>\n",
       "      <td>1</td>\n",
       "      <td>60647</td>\n",
       "      <td>0</td>\n",
       "      <td>0</td>\n",
       "      <td>1</td>\n",
       "      <td>0</td>\n",
       "      <td>0</td>\n",
       "      <td>0</td>\n",
       "      <td>0</td>\n",
       "      <td>0</td>\n",
       "      <td>0</td>\n",
       "      <td>0</td>\n",
       "    </tr>\n",
       "    <tr>\n",
       "      <td>2</td>\n",
       "      <td>60647</td>\n",
       "      <td>0</td>\n",
       "      <td>0</td>\n",
       "      <td>1</td>\n",
       "      <td>0</td>\n",
       "      <td>0</td>\n",
       "      <td>0</td>\n",
       "      <td>0</td>\n",
       "      <td>0</td>\n",
       "      <td>0</td>\n",
       "      <td>0</td>\n",
       "    </tr>\n",
       "    <tr>\n",
       "      <td>3</td>\n",
       "      <td>60610</td>\n",
       "      <td>0</td>\n",
       "      <td>0</td>\n",
       "      <td>0</td>\n",
       "      <td>0</td>\n",
       "      <td>0</td>\n",
       "      <td>0</td>\n",
       "      <td>0</td>\n",
       "      <td>0</td>\n",
       "      <td>0</td>\n",
       "      <td>1</td>\n",
       "    </tr>\n",
       "    <tr>\n",
       "      <td>4</td>\n",
       "      <td>60610</td>\n",
       "      <td>0</td>\n",
       "      <td>0</td>\n",
       "      <td>1</td>\n",
       "      <td>0</td>\n",
       "      <td>0</td>\n",
       "      <td>0</td>\n",
       "      <td>0</td>\n",
       "      <td>0</td>\n",
       "      <td>0</td>\n",
       "      <td>0</td>\n",
       "    </tr>\n",
       "  </tbody>\n",
       "</table>\n",
       "</div>"
      ],
      "text/plain": [
       "  ZIP_CD  CONTACT_HOUR  RACE_CODE_CD_0  RACE_CODE_CD_1  RACE_CODE_CD_2  \\\n",
       "0  60647             0               0               1               0   \n",
       "1  60647             0               0               1               0   \n",
       "2  60647             0               0               1               0   \n",
       "3  60610             0               0               0               0   \n",
       "4  60610             0               0               1               0   \n",
       "\n",
       "   RACE_CODE_CD_3  RACE_CODE_CD_4  RACE_CODE_CD_5  RACE_CODE_CD_6  \\\n",
       "0               0               0               0               0   \n",
       "1               0               0               0               0   \n",
       "2               0               0               0               0   \n",
       "3               0               0               0               0   \n",
       "4               0               0               0               0   \n",
       "\n",
       "   RACE_CODE_CD_7  RACE_CODE_CD_8  \n",
       "0               0               0  \n",
       "1               0               0  \n",
       "2               0               0  \n",
       "3               0               1  \n",
       "4               0               0  "
      ]
     },
     "execution_count": 19,
     "metadata": {},
     "output_type": "execute_result"
    }
   ],
   "source": [
    "first_model_data = pd.get_dummies(first_model_data, columns=['RACE_CODE_CD'])\n",
    "first_model_data.head()"
   ]
  },
  {
   "cell_type": "code",
   "execution_count": 20,
   "metadata": {},
   "outputs": [
    {
     "data": {
      "text/html": [
       "<div>\n",
       "<style scoped>\n",
       "    .dataframe tbody tr th:only-of-type {\n",
       "        vertical-align: middle;\n",
       "    }\n",
       "\n",
       "    .dataframe tbody tr th {\n",
       "        vertical-align: top;\n",
       "    }\n",
       "\n",
       "    .dataframe thead th {\n",
       "        text-align: right;\n",
       "    }\n",
       "</style>\n",
       "<table border=\"1\" class=\"dataframe\">\n",
       "  <thead>\n",
       "    <tr style=\"text-align: right;\">\n",
       "      <th></th>\n",
       "      <th>CONTACT_HOUR</th>\n",
       "      <th>RACE_CODE_CD_0</th>\n",
       "      <th>RACE_CODE_CD_1</th>\n",
       "      <th>RACE_CODE_CD_2</th>\n",
       "      <th>RACE_CODE_CD_3</th>\n",
       "      <th>RACE_CODE_CD_4</th>\n",
       "      <th>RACE_CODE_CD_5</th>\n",
       "      <th>RACE_CODE_CD_6</th>\n",
       "      <th>RACE_CODE_CD_7</th>\n",
       "      <th>RACE_CODE_CD_8</th>\n",
       "      <th>...</th>\n",
       "      <th>ZIP_CD_67</th>\n",
       "      <th>ZIP_CD_68</th>\n",
       "      <th>ZIP_CD_69</th>\n",
       "      <th>ZIP_CD_70</th>\n",
       "      <th>ZIP_CD_71</th>\n",
       "      <th>ZIP_CD_72</th>\n",
       "      <th>ZIP_CD_73</th>\n",
       "      <th>ZIP_CD_74</th>\n",
       "      <th>ZIP_CD_75</th>\n",
       "      <th>ZIP_CD_76</th>\n",
       "    </tr>\n",
       "  </thead>\n",
       "  <tbody>\n",
       "    <tr>\n",
       "      <td>0</td>\n",
       "      <td>0</td>\n",
       "      <td>0</td>\n",
       "      <td>1</td>\n",
       "      <td>0</td>\n",
       "      <td>0</td>\n",
       "      <td>0</td>\n",
       "      <td>0</td>\n",
       "      <td>0</td>\n",
       "      <td>0</td>\n",
       "      <td>0</td>\n",
       "      <td>...</td>\n",
       "      <td>0</td>\n",
       "      <td>0</td>\n",
       "      <td>0</td>\n",
       "      <td>0</td>\n",
       "      <td>0</td>\n",
       "      <td>0</td>\n",
       "      <td>0</td>\n",
       "      <td>0</td>\n",
       "      <td>0</td>\n",
       "      <td>0</td>\n",
       "    </tr>\n",
       "    <tr>\n",
       "      <td>1</td>\n",
       "      <td>0</td>\n",
       "      <td>0</td>\n",
       "      <td>1</td>\n",
       "      <td>0</td>\n",
       "      <td>0</td>\n",
       "      <td>0</td>\n",
       "      <td>0</td>\n",
       "      <td>0</td>\n",
       "      <td>0</td>\n",
       "      <td>0</td>\n",
       "      <td>...</td>\n",
       "      <td>0</td>\n",
       "      <td>0</td>\n",
       "      <td>0</td>\n",
       "      <td>0</td>\n",
       "      <td>0</td>\n",
       "      <td>0</td>\n",
       "      <td>0</td>\n",
       "      <td>0</td>\n",
       "      <td>0</td>\n",
       "      <td>0</td>\n",
       "    </tr>\n",
       "    <tr>\n",
       "      <td>2</td>\n",
       "      <td>0</td>\n",
       "      <td>0</td>\n",
       "      <td>1</td>\n",
       "      <td>0</td>\n",
       "      <td>0</td>\n",
       "      <td>0</td>\n",
       "      <td>0</td>\n",
       "      <td>0</td>\n",
       "      <td>0</td>\n",
       "      <td>0</td>\n",
       "      <td>...</td>\n",
       "      <td>0</td>\n",
       "      <td>0</td>\n",
       "      <td>0</td>\n",
       "      <td>0</td>\n",
       "      <td>0</td>\n",
       "      <td>0</td>\n",
       "      <td>0</td>\n",
       "      <td>0</td>\n",
       "      <td>0</td>\n",
       "      <td>0</td>\n",
       "    </tr>\n",
       "    <tr>\n",
       "      <td>3</td>\n",
       "      <td>0</td>\n",
       "      <td>0</td>\n",
       "      <td>0</td>\n",
       "      <td>0</td>\n",
       "      <td>0</td>\n",
       "      <td>0</td>\n",
       "      <td>0</td>\n",
       "      <td>0</td>\n",
       "      <td>0</td>\n",
       "      <td>1</td>\n",
       "      <td>...</td>\n",
       "      <td>0</td>\n",
       "      <td>0</td>\n",
       "      <td>0</td>\n",
       "      <td>0</td>\n",
       "      <td>0</td>\n",
       "      <td>0</td>\n",
       "      <td>0</td>\n",
       "      <td>0</td>\n",
       "      <td>0</td>\n",
       "      <td>0</td>\n",
       "    </tr>\n",
       "    <tr>\n",
       "      <td>4</td>\n",
       "      <td>0</td>\n",
       "      <td>0</td>\n",
       "      <td>1</td>\n",
       "      <td>0</td>\n",
       "      <td>0</td>\n",
       "      <td>0</td>\n",
       "      <td>0</td>\n",
       "      <td>0</td>\n",
       "      <td>0</td>\n",
       "      <td>0</td>\n",
       "      <td>...</td>\n",
       "      <td>0</td>\n",
       "      <td>0</td>\n",
       "      <td>0</td>\n",
       "      <td>0</td>\n",
       "      <td>0</td>\n",
       "      <td>0</td>\n",
       "      <td>0</td>\n",
       "      <td>0</td>\n",
       "      <td>0</td>\n",
       "      <td>0</td>\n",
       "    </tr>\n",
       "  </tbody>\n",
       "</table>\n",
       "<p>5 rows × 87 columns</p>\n",
       "</div>"
      ],
      "text/plain": [
       "   CONTACT_HOUR  RACE_CODE_CD_0  RACE_CODE_CD_1  RACE_CODE_CD_2  \\\n",
       "0             0               0               1               0   \n",
       "1             0               0               1               0   \n",
       "2             0               0               1               0   \n",
       "3             0               0               0               0   \n",
       "4             0               0               1               0   \n",
       "\n",
       "   RACE_CODE_CD_3  RACE_CODE_CD_4  RACE_CODE_CD_5  RACE_CODE_CD_6  \\\n",
       "0               0               0               0               0   \n",
       "1               0               0               0               0   \n",
       "2               0               0               0               0   \n",
       "3               0               0               0               0   \n",
       "4               0               0               0               0   \n",
       "\n",
       "   RACE_CODE_CD_7  RACE_CODE_CD_8  ...  ZIP_CD_67  ZIP_CD_68  ZIP_CD_69  \\\n",
       "0               0               0  ...          0          0          0   \n",
       "1               0               0  ...          0          0          0   \n",
       "2               0               0  ...          0          0          0   \n",
       "3               0               1  ...          0          0          0   \n",
       "4               0               0  ...          0          0          0   \n",
       "\n",
       "   ZIP_CD_70  ZIP_CD_71  ZIP_CD_72  ZIP_CD_73  ZIP_CD_74  ZIP_CD_75  ZIP_CD_76  \n",
       "0          0          0          0          0          0          0          0  \n",
       "1          0          0          0          0          0          0          0  \n",
       "2          0          0          0          0          0          0          0  \n",
       "3          0          0          0          0          0          0          0  \n",
       "4          0          0          0          0          0          0          0  \n",
       "\n",
       "[5 rows x 87 columns]"
      ]
     },
     "execution_count": 20,
     "metadata": {},
     "output_type": "execute_result"
    }
   ],
   "source": [
    "# and we'll repeat that with zipcode now\n",
    "\n",
    "first_model_data['ZIP_CD'] = label_encoder.fit_transform(first_model_data['ZIP_CD'])\n",
    "first_model_data = pd.get_dummies(first_model_data, columns=['ZIP_CD'])\n",
    "first_model_data.head()"
   ]
  },
  {
   "cell_type": "code",
   "execution_count": 21,
   "metadata": {},
   "outputs": [],
   "source": [
    "X_train, X_test, y_train, y_test = train_test_split(first_model_data, y, test_size = 0.25, random_state = 0,stratify=y)"
   ]
  },
  {
   "cell_type": "code",
   "execution_count": 22,
   "metadata": {},
   "outputs": [
    {
     "name": "stderr",
     "output_type": "stream",
     "text": [
      "/Users/mac/Downloads/anaconda3/lib/python3.7/site-packages/ipykernel_launcher.py:1: FutureWarning: Method .as_matrix will be removed in a future version. Use .values instead.\n",
      "  \"\"\"Entry point for launching an IPython kernel.\n"
     ]
    },
    {
     "data": {
      "text/plain": [
       "array([[ 0.,  0.,  1., ...,  0.,  0.,  0.],\n",
       "       [ 0.,  0.,  1., ...,  0.,  0.,  0.],\n",
       "       [ 0.,  0.,  1., ...,  0.,  0.,  0.],\n",
       "       ...,\n",
       "       [23.,  0.,  1., ...,  0.,  0.,  0.],\n",
       "       [23.,  0.,  1., ...,  0.,  0.,  0.],\n",
       "       [23.,  0.,  1., ...,  0.,  0.,  0.]])"
      ]
     },
     "execution_count": 22,
     "metadata": {},
     "output_type": "execute_result"
    }
   ],
   "source": [
    "X = first_model_data.as_matrix().astype(np.float)\n",
    "X"
   ]
  },
  {
   "cell_type": "code",
   "execution_count": 23,
   "metadata": {},
   "outputs": [
    {
     "data": {
      "text/plain": [
       "array([[-2.1616682 , -0.0877955 ,  0.63450032, ..., -0.0038502 ,\n",
       "        -0.06479094, -0.01540251],\n",
       "       [-2.1616682 , -0.0877955 ,  0.63450032, ..., -0.0038502 ,\n",
       "        -0.06479094, -0.01540251],\n",
       "       [-2.1616682 , -0.0877955 ,  0.63450032, ..., -0.0038502 ,\n",
       "        -0.06479094, -0.01540251],\n",
       "       ...,\n",
       "       [ 1.35659306, -0.0877955 ,  0.63450032, ..., -0.0038502 ,\n",
       "        -0.06479094, -0.01540251],\n",
       "       [ 1.35659306, -0.0877955 ,  0.63450032, ..., -0.0038502 ,\n",
       "        -0.06479094, -0.01540251],\n",
       "       [ 1.35659306, -0.0877955 ,  0.63450032, ..., -0.0038502 ,\n",
       "        -0.06479094, -0.01540251]])"
      ]
     },
     "execution_count": 23,
     "metadata": {},
     "output_type": "execute_result"
    }
   ],
   "source": [
    "scaler = preprocessing.StandardScaler()\n",
    "X = scaler.fit_transform(X)\n",
    "X"
   ]
  },
  {
   "cell_type": "code",
   "execution_count": 24,
   "metadata": {},
   "outputs": [
    {
     "name": "stdout",
     "output_type": "stream",
     "text": [
      "Logistic Regression Testing Accuracy: 0.6352801660243107\n",
      "AUC: 0.6332232574245653\n",
      "Precision: 0.6359995784592686\n",
      "Recall: 0.6911360513055428\n",
      "F1 Score: 0.6624224795565555\n"
     ]
    },
    {
     "name": "stderr",
     "output_type": "stream",
     "text": [
      "/Users/mac/Downloads/anaconda3/lib/python3.7/site-packages/sklearn/linear_model/_logistic.py:940: ConvergenceWarning: lbfgs failed to converge (status=1):\n",
      "STOP: TOTAL NO. of ITERATIONS REACHED LIMIT.\n",
      "\n",
      "Increase the number of iterations (max_iter) or scale the data as shown in:\n",
      "    https://scikit-learn.org/stable/modules/preprocessing.html\n",
      "Please also refer to the documentation for alternative solver options:\n",
      "    https://scikit-learn.org/stable/modules/linear_model.html#logistic-regression\n",
      "  extra_warning_msg=_LOGISTIC_SOLVER_CONVERGENCE_MSG)\n"
     ]
    }
   ],
   "source": [
    "clf = LogisticRegression(C=1.0)\n",
    "clf.fit(X_train, y_train)\n",
    "preds = clf.predict(X_test)\n",
    "\n",
    "\n",
    "print(f'Logistic Regression Testing Accuracy: {accuracy_score(y_test, preds)}')\n",
    "print(f'AUC: {roc_auc_score(y_test, preds)}')\n",
    "print(f'Precision: {precision_score(y_test, preds)}')\n",
    "print(f'Recall: {recall_score(y_test, preds)}')\n",
    "print(f'F1 Score: {f1_score(y_test, preds)}')"
   ]
  },
  {
   "cell_type": "code",
   "execution_count": 25,
   "metadata": {},
   "outputs": [],
   "source": [
    "def plot_confusion_matrix(cm, classes,\n",
    "                          normalize=False,\n",
    "                          title='Confusion matrix',\n",
    "                          cmap=plt.cm.Blues):\n",
    "    \n",
    "    \n",
    "    \"\"\"This function takes in a confusion matrix (cm) and normalizes the values if normalize is set to True. \n",
    "    If so, normalize the raw confusion matrix before visualizing.\n",
    "    If false, raw confusion matrix is visualized.\"\"\"\n",
    "    \n",
    "    if normalize:\n",
    "        cm = cm.astype('float') / cm.sum(axis=1)[:, np.newaxis]\n",
    "        print(\"Normalized confusion matrix\")\n",
    "    else:\n",
    "        print('Confusion matrix, without normalization')\n",
    "    \n",
    "    print(cm)\n",
    "\n",
    "    plt.imshow(cm, cmap=cmap)\n",
    "    \n",
    "    # Add title and axis labels \n",
    "    #plt.title('Confusion Matrix') \n",
    "    plt.ylabel('True label') \n",
    "    plt.xlabel('Predicted label')\n",
    "    \n",
    "    # Add appropriate axis scales\n",
    "    class_names = set(y) # Get class labels to add to matrix\n",
    "    tick_marks = np.arange(len(classes))\n",
    "    plt.xticks(tick_marks, class_names, rotation=45)\n",
    "    plt.yticks(tick_marks, class_names)\n",
    "    \n",
    "    # Text formatting\n",
    "    fmt = '.2f' if normalize else 'd'\n",
    "    # Add labels to each cell\n",
    "    thresh = cm.max() / 2.\n",
    "    # Here we iterate through the confusion matrix and append labels to our visualization \n",
    "    for i, j in itertools.product(range(cm.shape[0]), range(cm.shape[1])):\n",
    "        plt.text(j, i, format(cm[i, j], fmt),\n",
    "                 horizontalalignment='center',\n",
    "                 color='white' if cm[i, j] > thresh else 'black')\n",
    "    \n",
    "    # Add a legend\n",
    "    plt.colorbar()\n",
    "    plt.show() "
   ]
  },
  {
   "cell_type": "code",
   "execution_count": 26,
   "metadata": {},
   "outputs": [
    {
     "name": "stdout",
     "output_type": "stream",
     "text": [
      "Confusion Matrix:\n",
      " [[4679 3454]\n",
      " [2697 6035]]\n"
     ]
    }
   ],
   "source": [
    "cnf_matrix = confusion_matrix(y_test, preds)\n",
    "print('Confusion Matrix:\\n', cnf_matrix)"
   ]
  },
  {
   "cell_type": "code",
   "execution_count": 27,
   "metadata": {},
   "outputs": [
    {
     "name": "stdout",
     "output_type": "stream",
     "text": [
      "Normalized confusion matrix\n",
      "[[0.57531046 0.42468954]\n",
      " [0.30886395 0.69113605]]\n"
     ]
    },
    {
     "data": {
      "image/png": "[encoded data removed]",
      "text/plain": [
       "<Figure size 432x288 with 2 Axes>"
      ]
     },
     "metadata": {
      "needs_background": "light"
     },
     "output_type": "display_data"
    }
   ],
   "source": [
    "# Plot a normalized confusion matrix\n",
    "plot_confusion_matrix(cnf_matrix, classes = ['True', 'False'], normalize=True)"
   ]
  },
  {
   "cell_type": "code",
   "execution_count": 28,
   "metadata": {},
   "outputs": [
    {
     "name": "stdout",
     "output_type": "stream",
     "text": [
      "Gradient Boosting: 0.6451823302697896\n",
      "AUC: 0.640436761684003\n",
      "Precision: 0.6275766016713092\n",
      "Recall: 0.7740494732020156\n",
      "F1 Score: 0.6931596759306738\n"
     ]
    }
   ],
   "source": [
    "gbc = GradientBoostingClassifier()\n",
    "gbc.fit(X_train, y_train)\n",
    "preds = gbc.predict(X_test)\n",
    "\n",
    "print(f'Gradient Boosting: {accuracy_score(y_test, preds)}')\n",
    "print(f'AUC: {roc_auc_score(y_test, preds)}')\n",
    "print(f'Precision: {precision_score(y_test, preds)}')\n",
    "print(f'Recall: {recall_score(y_test, preds)}')\n",
    "print(f'F1 Score: {f1_score(y_test, preds)}')"
   ]
  },
  {
   "cell_type": "code",
   "execution_count": 29,
   "metadata": {},
   "outputs": [
    {
     "name": "stdout",
     "output_type": "stream",
     "text": [
      "Confusion Matrix:\n",
      " [[4122 4011]\n",
      " [1973 6759]]\n"
     ]
    }
   ],
   "source": [
    "cnf_matrix = confusion_matrix(y_test, preds)\n",
    "print('Confusion Matrix:\\n', cnf_matrix)"
   ]
  },
  {
   "cell_type": "code",
   "execution_count": 30,
   "metadata": {},
   "outputs": [
    {
     "name": "stdout",
     "output_type": "stream",
     "text": [
      "Normalized confusion matrix\n",
      "[[0.50682405 0.49317595]\n",
      " [0.22595053 0.77404947]]\n"
     ]
    },
    {
     "data": {
      "image/png": "[encoded data removed]",
      "text/plain": [
       "<Figure size 432x288 with 2 Axes>"
      ]
     },
     "metadata": {
      "needs_background": "light"
     },
     "output_type": "display_data"
    }
   ],
   "source": [
    "plot_confusion_matrix(cnf_matrix, classes = ['True', 'False'], normalize=True)"
   ]
  },
  {
   "cell_type": "code",
   "execution_count": 31,
   "metadata": {},
   "outputs": [
    {
     "name": "stdout",
     "output_type": "stream",
     "text": [
      "XGB Classifier: 0.6633857100504003\n",
      "AUC: 0.659462308058892\n",
      "Precision: 0.6470022134539505\n",
      "Recall: 0.7699267063673844\n",
      "F1 Score: 0.7031323537101919\n"
     ]
    }
   ],
   "source": [
    "xgb = xgb.XGBClassifier(max_depth=7, n_estimators=200, colsample_bytree=0.8, \n",
    "                        subsample=0.8, nthread=10, learning_rate=0.1)\n",
    "xgb.fit(X_train, y_train)\n",
    "preds = xgb.predict(X_test)\n",
    "\n",
    "print(f'XGB Classifier: {accuracy_score(y_test, preds)}')\n",
    "print(f'AUC: {roc_auc_score(y_test, preds)}')\n",
    "print(f'Precision: {precision_score(y_test, preds)}')\n",
    "print(f'Recall: {recall_score(y_test, preds)}')\n",
    "print(f'F1 Score: {f1_score(y_test, preds)}')"
   ]
  },
  {
   "cell_type": "code",
   "execution_count": 32,
   "metadata": {},
   "outputs": [
    {
     "name": "stdout",
     "output_type": "stream",
     "text": [
      "Confusion Matrix:\n",
      " [[4465 3668]\n",
      " [2009 6723]]\n"
     ]
    }
   ],
   "source": [
    "cnf_matrix = confusion_matrix(y_test, preds)\n",
    "print('Confusion Matrix:\\n', cnf_matrix)"
   ]
  },
  {
   "cell_type": "code",
   "execution_count": 33,
   "metadata": {},
   "outputs": [
    {
     "name": "stdout",
     "output_type": "stream",
     "text": [
      "Normalized confusion matrix\n",
      "[[0.54899791 0.45100209]\n",
      " [0.23007329 0.76992671]]\n"
     ]
    },
    {
     "data": {
      "image/png": "[encoded data removed]",
      "text/plain": [
       "<Figure size 432x288 with 2 Axes>"
      ]
     },
     "metadata": {
      "needs_background": "light"
     },
     "output_type": "display_data"
    }
   ],
   "source": [
    "plot_confusion_matrix(cnf_matrix, classes = ['True', 'False'], normalize=True,\n",
    "                      title='Normalized confusion matrix')"
   ]
  },
  {
   "cell_type": "code",
   "execution_count": null,
   "metadata": {},
   "outputs": [],
   "source": [
    "dt_param_grid = {\n",
    "        'min_child_weight': [1, 5, 10],\n",
    "        'gamma': [0.5, 1, 1.5, 2, 5],\n",
    "        'subsample': [0.6, 0.8, 1.0],\n",
    "        'colsample_bytree': [0.6, 0.8, 1.0],\n",
    "        'max_depth': [3, 4, 5]\n",
    "        }"
   ]
  },
  {
   "cell_type": "code",
   "execution_count": null,
   "metadata": {},
   "outputs": [],
   "source": [
    "# Instantiate GridSearchCV\n",
    "dt_grid_search = GridSearchCV(xgb, dt_param_grid, cv=3, return_train_score=True)\n",
    "\n",
    "# Fit to the data\n",
    "dt_grid_search.fit(X_train, y_train)"
   ]
  },
  {
   "cell_type": "code",
   "execution_count": 34,
   "metadata": {},
   "outputs": [
    {
     "name": "stdout",
     "output_type": "stream",
     "text": [
      "[0.00781241 0.00235717 0.0082031  0.00375032 0.0018037  0.\n",
      " 0.00391149 0.01250393 0.00263683 0.00490163 0.         0.\n",
      " 0.         0.         0.         0.         0.         0.\n",
      " 0.         0.         0.         0.         0.         0.\n",
      " 0.03942924 0.00749536 0.00378498 0.00636595 0.00889711 0.01166571\n",
      " 0.0065333  0.00598235 0.01693166 0.05300302 0.00543391 0.02406298\n",
      " 0.00596509 0.00611061 0.0069169  0.00518953 0.0119246  0.01921945\n",
      " 0.02298206 0.01224466 0.01491479 0.0115821  0.08849835 0.09448668\n",
      " 0.00813726 0.01574265 0.00775445 0.0524409  0.01146029 0.02776271\n",
      " 0.00624188 0.0030621  0.01347197 0.02772246 0.01268279 0.0050245\n",
      " 0.0073184  0.0206777  0.01883158 0.0070806  0.01352299 0.01575575\n",
      " 0.00909374 0.00423528 0.00609742 0.01967362 0.03718853 0.00610919\n",
      " 0.00574123 0.01131625 0.00634206 0.01098412 0.01098009 0.00453524\n",
      " 0.00753659 0.00323164 0.03368236 0.         0.00485548 0.\n",
      " 0.         0.00437825 0.00182699]\n"
     ]
    }
   ],
   "source": [
    "# FEATURE IMPORTANCE\n",
    "print (xgb.feature_importances_)"
   ]
  },
  {
   "cell_type": "code",
   "execution_count": 35,
   "metadata": {},
   "outputs": [
    {
     "data": {
      "image/png": "[encoded data removed]",
      "text/plain": [
       "<Figure size 576x576 with 1 Axes>"
      ]
     },
     "metadata": {
      "needs_background": "light"
     },
     "output_type": "display_data"
    }
   ],
   "source": [
    "def plot_feature_importances(model):\n",
    "    \"\"\"Plots the importance of features from the model specified. Results are sorted by index.\"\"\"\n",
    "    n_features = X_train.shape[1]\n",
    "    plt.figure(figsize=(8,8))\n",
    "    plt.barh(range(n_features), model.feature_importances_, align='center') \n",
    "    plt.yticks(np.arange(n_features), X_train.columns.values) \n",
    "    plt.xlabel('Feature importance')\n",
    "    plt.ylabel('Feature')\n",
    "\n",
    "plot_feature_importances(xgb)"
   ]
  },
  {
   "cell_type": "code",
   "execution_count": 36,
   "metadata": {},
   "outputs": [
    {
     "data": {
      "image/png": "[encoded data removed]",
      "text/plain": [
       "<Figure size 432x288 with 1 Axes>"
      ]
     },
     "metadata": {
      "needs_background": "light"
     },
     "output_type": "display_data"
    }
   ],
   "source": [
    "plot_importance(xgb,importance_type='gain', max_num_features=10)\n",
    "pyplot.show()"
   ]
  },
  {
   "cell_type": "code",
   "execution_count": null,
   "metadata": {},
   "outputs": [],
   "source": [
    "# figure out what these zips are, tie back in to Chicago demographics"
   ]
  },
  {
   "cell_type": "code",
   "execution_count": null,
   "metadata": {},
   "outputs": [],
   "source": [
    "# EDA related to findings\n",
    "\n",
    "# map those two zips arrest count vs all others\n",
    "# percent of arrests in those two zips\n",
    "# etc etc"
   ]
  },
  {
   "cell_type": "code",
   "execution_count": null,
   "metadata": {},
   "outputs": [],
   "source": []
  },
  {
   "cell_type": "code",
   "execution_count": null,
   "metadata": {},
   "outputs": [],
   "source": [
    "# PERCENT OF ARRESTS BY UNIT NUMBER\n",
    "# ARRESTS BY OFFICER ID\n",
    "# PERCENT OF RACE ARRESTS BY OFFICER\n",
    "# ZIP CODES WITH HIGHEST NUMBER OF ARRESTS"
   ]
  },
  {
   "cell_type": "code",
   "execution_count": 37,
   "metadata": {},
   "outputs": [
    {
     "data": {
      "text/html": [
       "<div>\n",
       "<style scoped>\n",
       "    .dataframe tbody tr th:only-of-type {\n",
       "        vertical-align: middle;\n",
       "    }\n",
       "\n",
       "    .dataframe tbody tr th {\n",
       "        vertical-align: top;\n",
       "    }\n",
       "\n",
       "    .dataframe thead th {\n",
       "        text-align: right;\n",
       "    }\n",
       "</style>\n",
       "<table border=\"1\" class=\"dataframe\">\n",
       "  <thead>\n",
       "    <tr style=\"text-align: right;\">\n",
       "      <th></th>\n",
       "      <th>CONTACT_CARD_ID</th>\n",
       "      <th>CONTACT_TYPE_CD</th>\n",
       "      <th>CARD_NO</th>\n",
       "      <th>CONTACT_DATE</th>\n",
       "      <th>CONTACT_HOUR</th>\n",
       "      <th>SUBMITTING_BEAT_CD</th>\n",
       "      <th>JUVENILE_I</th>\n",
       "      <th>CLOTHING_DESCR</th>\n",
       "      <th>NAME_VERIFIED_I</th>\n",
       "      <th>RD_NO</th>\n",
       "      <th>...</th>\n",
       "      <th>STOLEN_PROPERTY_I</th>\n",
       "      <th>SEARCH_PROPERTY_I</th>\n",
       "      <th>S_ALCOHOL_I</th>\n",
       "      <th>S_PARA_I</th>\n",
       "      <th>S_STOLEN_PROPERTY_I</th>\n",
       "      <th>GANG_OTHER</th>\n",
       "      <th>OTHER_DESCR</th>\n",
       "      <th>S_OTHER_I</th>\n",
       "      <th>S_OTHER_DESCR</th>\n",
       "      <th>NAME</th>\n",
       "    </tr>\n",
       "  </thead>\n",
       "  <tbody>\n",
       "    <tr>\n",
       "      <td>0</td>\n",
       "      <td>20410357</td>\n",
       "      <td>INVSTG</td>\n",
       "      <td>ISR000410357</td>\n",
       "      <td>01-JAN-2018 00:08</td>\n",
       "      <td>0</td>\n",
       "      <td>2523</td>\n",
       "      <td>N</td>\n",
       "      <td>BROWN JACKET, JEANS</td>\n",
       "      <td>NaN</td>\n",
       "      <td>JB100012</td>\n",
       "      <td>...</td>\n",
       "      <td>NaN</td>\n",
       "      <td>N</td>\n",
       "      <td>NaN</td>\n",
       "      <td>NaN</td>\n",
       "      <td>NaN</td>\n",
       "      <td>UNKNOWN</td>\n",
       "      <td>NaN</td>\n",
       "      <td>NaN</td>\n",
       "      <td>NaN</td>\n",
       "      <td>NaN</td>\n",
       "    </tr>\n",
       "    <tr>\n",
       "      <td>1</td>\n",
       "      <td>20410350</td>\n",
       "      <td>INVSTG</td>\n",
       "      <td>ISR000410350</td>\n",
       "      <td>01-JAN-2018 00:08</td>\n",
       "      <td>0</td>\n",
       "      <td>2523</td>\n",
       "      <td>N</td>\n",
       "      <td>BLUE JEANS AND A BLACK SWEATER</td>\n",
       "      <td>NaN</td>\n",
       "      <td>JB100012</td>\n",
       "      <td>...</td>\n",
       "      <td>NaN</td>\n",
       "      <td>N</td>\n",
       "      <td>NaN</td>\n",
       "      <td>NaN</td>\n",
       "      <td>NaN</td>\n",
       "      <td>NaN</td>\n",
       "      <td>NaN</td>\n",
       "      <td>NaN</td>\n",
       "      <td>NaN</td>\n",
       "      <td>NaN</td>\n",
       "    </tr>\n",
       "    <tr>\n",
       "      <td>2</td>\n",
       "      <td>20410351</td>\n",
       "      <td>INVSTG</td>\n",
       "      <td>ISR000410351</td>\n",
       "      <td>01-JAN-2018 00:08</td>\n",
       "      <td>0</td>\n",
       "      <td>2523</td>\n",
       "      <td>N</td>\n",
       "      <td>GRAY HOODED SWEATER, JEANS</td>\n",
       "      <td>NaN</td>\n",
       "      <td>JB100012</td>\n",
       "      <td>...</td>\n",
       "      <td>NaN</td>\n",
       "      <td>N</td>\n",
       "      <td>NaN</td>\n",
       "      <td>NaN</td>\n",
       "      <td>NaN</td>\n",
       "      <td>UNKNOWN</td>\n",
       "      <td>NaN</td>\n",
       "      <td>NaN</td>\n",
       "      <td>NaN</td>\n",
       "      <td>NaN</td>\n",
       "    </tr>\n",
       "    <tr>\n",
       "      <td>3</td>\n",
       "      <td>20410338</td>\n",
       "      <td>INVSTG</td>\n",
       "      <td>ISR000410338</td>\n",
       "      <td>01-JAN-2018 00:10</td>\n",
       "      <td>0</td>\n",
       "      <td>6738</td>\n",
       "      <td>N</td>\n",
       "      <td>BLACK LONGSLEEVE SHIRT, GREY JEANS</td>\n",
       "      <td>Y</td>\n",
       "      <td>NaN</td>\n",
       "      <td>...</td>\n",
       "      <td>NaN</td>\n",
       "      <td>N</td>\n",
       "      <td>NaN</td>\n",
       "      <td>NaN</td>\n",
       "      <td>NaN</td>\n",
       "      <td>NaN</td>\n",
       "      <td>NaN</td>\n",
       "      <td>NaN</td>\n",
       "      <td>NaN</td>\n",
       "      <td>ORCHESTRA ALBANY</td>\n",
       "    </tr>\n",
       "    <tr>\n",
       "      <td>4</td>\n",
       "      <td>20410352</td>\n",
       "      <td>INVSTG</td>\n",
       "      <td>ISR000410352</td>\n",
       "      <td>01-JAN-2018 00:30</td>\n",
       "      <td>0</td>\n",
       "      <td>0767</td>\n",
       "      <td>N</td>\n",
       "      <td>WHITE SOX HAT, BLACK JACKET, BLACK JEANS</td>\n",
       "      <td>Y</td>\n",
       "      <td>NaN</td>\n",
       "      <td>...</td>\n",
       "      <td>NaN</td>\n",
       "      <td>N</td>\n",
       "      <td>NaN</td>\n",
       "      <td>NaN</td>\n",
       "      <td>NaN</td>\n",
       "      <td>NaN</td>\n",
       "      <td>NaN</td>\n",
       "      <td>NaN</td>\n",
       "      <td>NaN</td>\n",
       "      <td>NaN</td>\n",
       "    </tr>\n",
       "  </tbody>\n",
       "</table>\n",
       "<p>5 rows × 136 columns</p>\n",
       "</div>"
      ],
      "text/plain": [
       "   CONTACT_CARD_ID CONTACT_TYPE_CD       CARD_NO       CONTACT_DATE  \\\n",
       "0         20410357          INVSTG  ISR000410357  01-JAN-2018 00:08   \n",
       "1         20410350          INVSTG  ISR000410350  01-JAN-2018 00:08   \n",
       "2         20410351          INVSTG  ISR000410351  01-JAN-2018 00:08   \n",
       "3         20410338          INVSTG  ISR000410338  01-JAN-2018 00:10   \n",
       "4         20410352          INVSTG  ISR000410352  01-JAN-2018 00:30   \n",
       "\n",
       "   CONTACT_HOUR SUBMITTING_BEAT_CD JUVENILE_I  \\\n",
       "0             0               2523          N   \n",
       "1             0               2523          N   \n",
       "2             0               2523          N   \n",
       "3             0               6738          N   \n",
       "4             0               0767          N   \n",
       "\n",
       "                             CLOTHING_DESCR NAME_VERIFIED_I     RD_NO  ...  \\\n",
       "0                       BROWN JACKET, JEANS             NaN  JB100012  ...   \n",
       "1            BLUE JEANS AND A BLACK SWEATER             NaN  JB100012  ...   \n",
       "2                GRAY HOODED SWEATER, JEANS             NaN  JB100012  ...   \n",
       "3        BLACK LONGSLEEVE SHIRT, GREY JEANS               Y       NaN  ...   \n",
       "4  WHITE SOX HAT, BLACK JACKET, BLACK JEANS               Y       NaN  ...   \n",
       "\n",
       "  STOLEN_PROPERTY_I  SEARCH_PROPERTY_I S_ALCOHOL_I  S_PARA_I  \\\n",
       "0               NaN                  N         NaN       NaN   \n",
       "1               NaN                  N         NaN       NaN   \n",
       "2               NaN                  N         NaN       NaN   \n",
       "3               NaN                  N         NaN       NaN   \n",
       "4               NaN                  N         NaN       NaN   \n",
       "\n",
       "   S_STOLEN_PROPERTY_I GANG_OTHER  OTHER_DESCR S_OTHER_I  S_OTHER_DESCR  \\\n",
       "0                  NaN    UNKNOWN          NaN       NaN            NaN   \n",
       "1                  NaN        NaN          NaN       NaN            NaN   \n",
       "2                  NaN    UNKNOWN          NaN       NaN            NaN   \n",
       "3                  NaN        NaN          NaN       NaN            NaN   \n",
       "4                  NaN        NaN          NaN       NaN            NaN   \n",
       "\n",
       "               NAME  \n",
       "0               NaN  \n",
       "1               NaN  \n",
       "2               NaN  \n",
       "3  ORCHESTRA ALBANY  \n",
       "4               NaN  \n",
       "\n",
       "[5 rows x 136 columns]"
      ]
     },
     "execution_count": 37,
     "metadata": {},
     "output_type": "execute_result"
    }
   ],
   "source": [
    "df_clean.head()"
   ]
  },
  {
   "cell_type": "code",
   "execution_count": 38,
   "metadata": {},
   "outputs": [],
   "source": [
    "# PERCENT OF ARRESTS BY UNIT NUMBER\n",
    "# get binary to represent arrest\n",
    "\n",
    "arrest_count = df_clean[['ENFORCEMENT_TYPE_CD', 'SUBMITTING_UNIT', 'SUBMITTING_BEAT_CD', 'CPD_UNIT_NO', 'CREATED_BY', 'RACE_CODE_CD', 'FO_EMPLOYEE_ID', 'SO_EMPLOYEE_ID', 'SUPV_EMPLOYEE_ID']]"
   ]
  },
  {
   "cell_type": "code",
   "execution_count": 39,
   "metadata": {},
   "outputs": [
    {
     "name": "stderr",
     "output_type": "stream",
     "text": [
      "/Users/mac/Downloads/anaconda3/lib/python3.7/site-packages/ipykernel_launcher.py:1: SettingWithCopyWarning: \n",
      "A value is trying to be set on a copy of a slice from a DataFrame.\n",
      "Try using .loc[row_indexer,col_indexer] = value instead\n",
      "\n",
      "See the caveats in the documentation: http://pandas.pydata.org/pandas-docs/stable/user_guide/indexing.html#returning-a-view-versus-a-copy\n",
      "  \"\"\"Entry point for launching an IPython kernel.\n"
     ]
    },
    {
     "data": {
      "text/html": [
       "<div>\n",
       "<style scoped>\n",
       "    .dataframe tbody tr th:only-of-type {\n",
       "        vertical-align: middle;\n",
       "    }\n",
       "\n",
       "    .dataframe tbody tr th {\n",
       "        vertical-align: top;\n",
       "    }\n",
       "\n",
       "    .dataframe thead th {\n",
       "        text-align: right;\n",
       "    }\n",
       "</style>\n",
       "<table border=\"1\" class=\"dataframe\">\n",
       "  <thead>\n",
       "    <tr style=\"text-align: right;\">\n",
       "      <th></th>\n",
       "      <th>ENFORCEMENT_TYPE_CD</th>\n",
       "      <th>SUBMITTING_UNIT</th>\n",
       "      <th>SUBMITTING_BEAT_CD</th>\n",
       "      <th>CPD_UNIT_NO</th>\n",
       "      <th>CREATED_BY</th>\n",
       "      <th>RACE_CODE_CD</th>\n",
       "      <th>FO_EMPLOYEE_ID</th>\n",
       "      <th>SO_EMPLOYEE_ID</th>\n",
       "      <th>SUPV_EMPLOYEE_ID</th>\n",
       "      <th>TARGET</th>\n",
       "    </tr>\n",
       "  </thead>\n",
       "  <tbody>\n",
       "    <tr>\n",
       "      <td>0</td>\n",
       "      <td>NaN</td>\n",
       "      <td>25</td>\n",
       "      <td>2523</td>\n",
       "      <td>25</td>\n",
       "      <td>185285</td>\n",
       "      <td>WWH</td>\n",
       "      <td>185285</td>\n",
       "      <td>845723.0</td>\n",
       "      <td>184324.0</td>\n",
       "      <td>0</td>\n",
       "    </tr>\n",
       "    <tr>\n",
       "      <td>1</td>\n",
       "      <td>NaN</td>\n",
       "      <td>25</td>\n",
       "      <td>2523</td>\n",
       "      <td>25</td>\n",
       "      <td>675642</td>\n",
       "      <td>WWH</td>\n",
       "      <td>675642</td>\n",
       "      <td>845723.0</td>\n",
       "      <td>184324.0</td>\n",
       "      <td>0</td>\n",
       "    </tr>\n",
       "    <tr>\n",
       "      <td>2</td>\n",
       "      <td>NaN</td>\n",
       "      <td>25</td>\n",
       "      <td>2523</td>\n",
       "      <td>25</td>\n",
       "      <td>185285</td>\n",
       "      <td>WWH</td>\n",
       "      <td>185285</td>\n",
       "      <td>845723.0</td>\n",
       "      <td>184324.0</td>\n",
       "      <td>0</td>\n",
       "    </tr>\n",
       "    <tr>\n",
       "      <td>3</td>\n",
       "      <td>NaN</td>\n",
       "      <td>313</td>\n",
       "      <td>6738</td>\n",
       "      <td>313</td>\n",
       "      <td>469481</td>\n",
       "      <td>WWH</td>\n",
       "      <td>469481</td>\n",
       "      <td>767063.0</td>\n",
       "      <td>225434.0</td>\n",
       "      <td>0</td>\n",
       "    </tr>\n",
       "    <tr>\n",
       "      <td>4</td>\n",
       "      <td>NaN</td>\n",
       "      <td>7</td>\n",
       "      <td>0767</td>\n",
       "      <td>7</td>\n",
       "      <td>666758</td>\n",
       "      <td>BLK</td>\n",
       "      <td>666758</td>\n",
       "      <td>816630.0</td>\n",
       "      <td>517843.0</td>\n",
       "      <td>0</td>\n",
       "    </tr>\n",
       "    <tr>\n",
       "      <td>5</td>\n",
       "      <td>NaN</td>\n",
       "      <td>7</td>\n",
       "      <td>0767</td>\n",
       "      <td>7</td>\n",
       "      <td>666758</td>\n",
       "      <td>BLK</td>\n",
       "      <td>666758</td>\n",
       "      <td>816630.0</td>\n",
       "      <td>517843.0</td>\n",
       "      <td>0</td>\n",
       "    </tr>\n",
       "    <tr>\n",
       "      <td>6</td>\n",
       "      <td>NaN</td>\n",
       "      <td>7</td>\n",
       "      <td>0767</td>\n",
       "      <td>7</td>\n",
       "      <td>666758</td>\n",
       "      <td>BLK</td>\n",
       "      <td>666758</td>\n",
       "      <td>816630.0</td>\n",
       "      <td>517843.0</td>\n",
       "      <td>0</td>\n",
       "    </tr>\n",
       "    <tr>\n",
       "      <td>7</td>\n",
       "      <td>NaN</td>\n",
       "      <td>7</td>\n",
       "      <td>0767</td>\n",
       "      <td>7</td>\n",
       "      <td>666758</td>\n",
       "      <td>BLK</td>\n",
       "      <td>666758</td>\n",
       "      <td>816630.0</td>\n",
       "      <td>517843.0</td>\n",
       "      <td>0</td>\n",
       "    </tr>\n",
       "    <tr>\n",
       "      <td>8</td>\n",
       "      <td>ARR</td>\n",
       "      <td>14</td>\n",
       "      <td>1461</td>\n",
       "      <td>14</td>\n",
       "      <td>555358</td>\n",
       "      <td>BLK</td>\n",
       "      <td>555358</td>\n",
       "      <td>614048.0</td>\n",
       "      <td>621961.0</td>\n",
       "      <td>1</td>\n",
       "    </tr>\n",
       "    <tr>\n",
       "      <td>9</td>\n",
       "      <td>ARR</td>\n",
       "      <td>14</td>\n",
       "      <td>1461</td>\n",
       "      <td>14</td>\n",
       "      <td>555358</td>\n",
       "      <td>BLK</td>\n",
       "      <td>555358</td>\n",
       "      <td>614048.0</td>\n",
       "      <td>621961.0</td>\n",
       "      <td>1</td>\n",
       "    </tr>\n",
       "    <tr>\n",
       "      <td>10</td>\n",
       "      <td>ARR</td>\n",
       "      <td>14</td>\n",
       "      <td>1461</td>\n",
       "      <td>14</td>\n",
       "      <td>555358</td>\n",
       "      <td>BLK</td>\n",
       "      <td>555358</td>\n",
       "      <td>614048.0</td>\n",
       "      <td>621961.0</td>\n",
       "      <td>1</td>\n",
       "    </tr>\n",
       "    <tr>\n",
       "      <td>11</td>\n",
       "      <td>OTH</td>\n",
       "      <td>18</td>\n",
       "      <td>1861</td>\n",
       "      <td>18</td>\n",
       "      <td>633945</td>\n",
       "      <td>WWH</td>\n",
       "      <td>633945</td>\n",
       "      <td>711211.0</td>\n",
       "      <td>732370.0</td>\n",
       "      <td>0</td>\n",
       "    </tr>\n",
       "    <tr>\n",
       "      <td>12</td>\n",
       "      <td>OTH</td>\n",
       "      <td>18</td>\n",
       "      <td>1861</td>\n",
       "      <td>18</td>\n",
       "      <td>633945</td>\n",
       "      <td>BLK</td>\n",
       "      <td>633945</td>\n",
       "      <td>711211.0</td>\n",
       "      <td>732370.0</td>\n",
       "      <td>0</td>\n",
       "    </tr>\n",
       "    <tr>\n",
       "      <td>13</td>\n",
       "      <td>ARR</td>\n",
       "      <td>9</td>\n",
       "      <td>913R</td>\n",
       "      <td>9</td>\n",
       "      <td>736520</td>\n",
       "      <td>WWH</td>\n",
       "      <td>736520</td>\n",
       "      <td>864001.0</td>\n",
       "      <td>302908.0</td>\n",
       "      <td>1</td>\n",
       "    </tr>\n",
       "    <tr>\n",
       "      <td>14</td>\n",
       "      <td>NaN</td>\n",
       "      <td>14</td>\n",
       "      <td>1412</td>\n",
       "      <td>14</td>\n",
       "      <td>320369</td>\n",
       "      <td>WHT</td>\n",
       "      <td>320369</td>\n",
       "      <td>NaN</td>\n",
       "      <td>719893.0</td>\n",
       "      <td>0</td>\n",
       "    </tr>\n",
       "    <tr>\n",
       "      <td>15</td>\n",
       "      <td>NaN</td>\n",
       "      <td>9</td>\n",
       "      <td>0960</td>\n",
       "      <td>9</td>\n",
       "      <td>496757</td>\n",
       "      <td>WWH</td>\n",
       "      <td>496757</td>\n",
       "      <td>470102.0</td>\n",
       "      <td>953351.0</td>\n",
       "      <td>0</td>\n",
       "    </tr>\n",
       "    <tr>\n",
       "      <td>16</td>\n",
       "      <td>NaN</td>\n",
       "      <td>9</td>\n",
       "      <td>0960</td>\n",
       "      <td>9</td>\n",
       "      <td>496757</td>\n",
       "      <td>WWH</td>\n",
       "      <td>496757</td>\n",
       "      <td>470102.0</td>\n",
       "      <td>953351.0</td>\n",
       "      <td>0</td>\n",
       "    </tr>\n",
       "    <tr>\n",
       "      <td>17</td>\n",
       "      <td>NaN</td>\n",
       "      <td>9</td>\n",
       "      <td>0960</td>\n",
       "      <td>9</td>\n",
       "      <td>496757</td>\n",
       "      <td>WWH</td>\n",
       "      <td>496757</td>\n",
       "      <td>470102.0</td>\n",
       "      <td>953351.0</td>\n",
       "      <td>0</td>\n",
       "    </tr>\n",
       "    <tr>\n",
       "      <td>18</td>\n",
       "      <td>NaN</td>\n",
       "      <td>9</td>\n",
       "      <td>0960</td>\n",
       "      <td>9</td>\n",
       "      <td>496757</td>\n",
       "      <td>WWH</td>\n",
       "      <td>496757</td>\n",
       "      <td>NaN</td>\n",
       "      <td>953351.0</td>\n",
       "      <td>0</td>\n",
       "    </tr>\n",
       "    <tr>\n",
       "      <td>19</td>\n",
       "      <td>ARR</td>\n",
       "      <td>311</td>\n",
       "      <td>6717</td>\n",
       "      <td>311</td>\n",
       "      <td>134344</td>\n",
       "      <td>BLK</td>\n",
       "      <td>134344</td>\n",
       "      <td>629834.0</td>\n",
       "      <td>911657.0</td>\n",
       "      <td>1</td>\n",
       "    </tr>\n",
       "  </tbody>\n",
       "</table>\n",
       "</div>"
      ],
      "text/plain": [
       "   ENFORCEMENT_TYPE_CD  SUBMITTING_UNIT SUBMITTING_BEAT_CD  CPD_UNIT_NO  \\\n",
       "0                  NaN               25               2523           25   \n",
       "1                  NaN               25               2523           25   \n",
       "2                  NaN               25               2523           25   \n",
       "3                  NaN              313               6738          313   \n",
       "4                  NaN                7               0767            7   \n",
       "5                  NaN                7               0767            7   \n",
       "6                  NaN                7               0767            7   \n",
       "7                  NaN                7               0767            7   \n",
       "8                  ARR               14               1461           14   \n",
       "9                  ARR               14               1461           14   \n",
       "10                 ARR               14               1461           14   \n",
       "11                 OTH               18               1861           18   \n",
       "12                 OTH               18               1861           18   \n",
       "13                 ARR                9               913R            9   \n",
       "14                 NaN               14               1412           14   \n",
       "15                 NaN                9               0960            9   \n",
       "16                 NaN                9               0960            9   \n",
       "17                 NaN                9               0960            9   \n",
       "18                 NaN                9               0960            9   \n",
       "19                 ARR              311               6717          311   \n",
       "\n",
       "    CREATED_BY RACE_CODE_CD  FO_EMPLOYEE_ID  SO_EMPLOYEE_ID  SUPV_EMPLOYEE_ID  \\\n",
       "0       185285          WWH          185285        845723.0          184324.0   \n",
       "1       675642          WWH          675642        845723.0          184324.0   \n",
       "2       185285          WWH          185285        845723.0          184324.0   \n",
       "3       469481          WWH          469481        767063.0          225434.0   \n",
       "4       666758          BLK          666758        816630.0          517843.0   \n",
       "5       666758          BLK          666758        816630.0          517843.0   \n",
       "6       666758          BLK          666758        816630.0          517843.0   \n",
       "7       666758          BLK          666758        816630.0          517843.0   \n",
       "8       555358          BLK          555358        614048.0          621961.0   \n",
       "9       555358          BLK          555358        614048.0          621961.0   \n",
       "10      555358          BLK          555358        614048.0          621961.0   \n",
       "11      633945          WWH          633945        711211.0          732370.0   \n",
       "12      633945          BLK          633945        711211.0          732370.0   \n",
       "13      736520          WWH          736520        864001.0          302908.0   \n",
       "14      320369          WHT          320369             NaN          719893.0   \n",
       "15      496757          WWH          496757        470102.0          953351.0   \n",
       "16      496757          WWH          496757        470102.0          953351.0   \n",
       "17      496757          WWH          496757        470102.0          953351.0   \n",
       "18      496757          WWH          496757             NaN          953351.0   \n",
       "19      134344          BLK          134344        629834.0          911657.0   \n",
       "\n",
       "    TARGET  \n",
       "0        0  \n",
       "1        0  \n",
       "2        0  \n",
       "3        0  \n",
       "4        0  \n",
       "5        0  \n",
       "6        0  \n",
       "7        0  \n",
       "8        1  \n",
       "9        1  \n",
       "10       1  \n",
       "11       0  \n",
       "12       0  \n",
       "13       1  \n",
       "14       0  \n",
       "15       0  \n",
       "16       0  \n",
       "17       0  \n",
       "18       0  \n",
       "19       1  "
      ]
     },
     "execution_count": 39,
     "metadata": {},
     "output_type": "execute_result"
    }
   ],
   "source": [
    "arrest_count['TARGET'] = np.where(arrest_count['ENFORCEMENT_TYPE_CD'] == 'ARR', 1, 0)\n",
    "arrest_count.head(20)"
   ]
  },
  {
   "cell_type": "code",
   "execution_count": 40,
   "metadata": {},
   "outputs": [
    {
     "name": "stdout",
     "output_type": "stream",
     "text": [
      "<class 'pandas.core.frame.DataFrame'>\n",
      "Int64Index: 243702 entries, 0 to 290144\n",
      "Data columns (total 10 columns):\n",
      "ENFORCEMENT_TYPE_CD    54485 non-null object\n",
      "SUBMITTING_UNIT        243702 non-null int64\n",
      "SUBMITTING_BEAT_CD     243702 non-null object\n",
      "CPD_UNIT_NO            243702 non-null int64\n",
      "CREATED_BY             243702 non-null int64\n",
      "RACE_CODE_CD           243702 non-null object\n",
      "FO_EMPLOYEE_ID         243702 non-null int64\n",
      "SO_EMPLOYEE_ID         243702 non-null float64\n",
      "SUPV_EMPLOYEE_ID       243628 non-null float64\n",
      "TARGET                 243702 non-null int64\n",
      "dtypes: float64(2), int64(5), object(3)\n",
      "memory usage: 20.5+ MB\n"
     ]
    },
    {
     "name": "stderr",
     "output_type": "stream",
     "text": [
      "/Users/mac/Downloads/anaconda3/lib/python3.7/site-packages/ipykernel_launcher.py:2: SettingWithCopyWarning: \n",
      "A value is trying to be set on a copy of a slice from a DataFrame\n",
      "\n",
      "See the caveats in the documentation: http://pandas.pydata.org/pandas-docs/stable/user_guide/indexing.html#returning-a-view-versus-a-copy\n",
      "  \n"
     ]
    }
   ],
   "source": [
    "# remove lines missing SO_EMPLOYEE_ID\n",
    "arrest_count.dropna(subset = [\"SO_EMPLOYEE_ID\"], axis=0, inplace=True)\n",
    "arrest_count.info()"
   ]
  },
  {
   "cell_type": "code",
   "execution_count": 41,
   "metadata": {},
   "outputs": [
    {
     "name": "stdout",
     "output_type": "stream",
     "text": [
      "<class 'pandas.core.frame.DataFrame'>\n",
      "Int64Index: 243628 entries, 0 to 290144\n",
      "Data columns (total 10 columns):\n",
      "ENFORCEMENT_TYPE_CD    54463 non-null object\n",
      "SUBMITTING_UNIT        243628 non-null int64\n",
      "SUBMITTING_BEAT_CD     243628 non-null object\n",
      "CPD_UNIT_NO            243628 non-null int64\n",
      "CREATED_BY             243628 non-null int64\n",
      "RACE_CODE_CD           243628 non-null object\n",
      "FO_EMPLOYEE_ID         243628 non-null int64\n",
      "SO_EMPLOYEE_ID         243628 non-null float64\n",
      "SUPV_EMPLOYEE_ID       243628 non-null float64\n",
      "TARGET                 243628 non-null int64\n",
      "dtypes: float64(2), int64(5), object(3)\n",
      "memory usage: 20.4+ MB\n"
     ]
    },
    {
     "name": "stderr",
     "output_type": "stream",
     "text": [
      "/Users/mac/Downloads/anaconda3/lib/python3.7/site-packages/ipykernel_launcher.py:2: SettingWithCopyWarning: \n",
      "A value is trying to be set on a copy of a slice from a DataFrame\n",
      "\n",
      "See the caveats in the documentation: http://pandas.pydata.org/pandas-docs/stable/user_guide/indexing.html#returning-a-view-versus-a-copy\n",
      "  \n"
     ]
    }
   ],
   "source": [
    "# remove lines missing SUPV_EMPLOYEE_ID\n",
    "arrest_count.dropna(subset = [\"SUPV_EMPLOYEE_ID\"], axis=0, inplace=True)\n",
    "arrest_count.info()"
   ]
  },
  {
   "cell_type": "code",
   "execution_count": 42,
   "metadata": {},
   "outputs": [
    {
     "name": "stdout",
     "output_type": "stream",
     "text": [
      "<class 'pandas.core.frame.DataFrame'>\n",
      "Int64Index: 243628 entries, 0 to 290144\n",
      "Data columns (total 9 columns):\n",
      "SUBMITTING_UNIT       243628 non-null int64\n",
      "SUBMITTING_BEAT_CD    243628 non-null object\n",
      "CPD_UNIT_NO           243628 non-null int64\n",
      "CREATED_BY            243628 non-null int64\n",
      "RACE_CODE_CD          243628 non-null object\n",
      "FO_EMPLOYEE_ID        243628 non-null int64\n",
      "SO_EMPLOYEE_ID        243628 non-null float64\n",
      "SUPV_EMPLOYEE_ID      243628 non-null float64\n",
      "TARGET                243628 non-null int64\n",
      "dtypes: float64(2), int64(5), object(2)\n",
      "memory usage: 18.6+ MB\n"
     ]
    },
    {
     "name": "stderr",
     "output_type": "stream",
     "text": [
      "/Users/mac/Downloads/anaconda3/lib/python3.7/site-packages/pandas/core/frame.py:4102: SettingWithCopyWarning: \n",
      "A value is trying to be set on a copy of a slice from a DataFrame\n",
      "\n",
      "See the caveats in the documentation: http://pandas.pydata.org/pandas-docs/stable/user_guide/indexing.html#returning-a-view-versus-a-copy\n",
      "  errors=errors,\n"
     ]
    }
   ],
   "source": [
    "#  drop enforcement type, since it informs target\n",
    "\n",
    "arrest_count.drop(columns = [\"ENFORCEMENT_TYPE_CD\"], axis=0, inplace=True)\n",
    "arrest_count.info()"
   ]
  },
  {
   "cell_type": "code",
   "execution_count": 43,
   "metadata": {},
   "outputs": [],
   "source": [
    "# EDA before we move on to the model"
   ]
  },
  {
   "cell_type": "code",
   "execution_count": null,
   "metadata": {},
   "outputs": [],
   "source": [
    "#arrest_count.groupby([\"RACE_CODE_CD\",\"FO_EMPLOYEE_ID\"]).size().unstack().plot(kind='bar', stacked=True, figsize=(12,6),fontsize=14) "
   ]
  },
  {
   "cell_type": "code",
   "execution_count": 44,
   "metadata": {},
   "outputs": [
    {
     "data": {
      "text/plain": [
       "7101"
      ]
     },
     "execution_count": 44,
     "metadata": {},
     "output_type": "execute_result"
    }
   ],
   "source": [
    "arrest_count['FO_EMPLOYEE_ID'].nunique()"
   ]
  },
  {
   "cell_type": "code",
   "execution_count": 45,
   "metadata": {},
   "outputs": [
    {
     "data": {
      "text/plain": [
       "0    88.376952\n",
       "1    11.623048\n",
       "Name: TARGET, dtype: float64"
      ]
     },
     "execution_count": 45,
     "metadata": {},
     "output_type": "execute_result"
    }
   ],
   "source": [
    "# percentage of arrests - entire dataset\n",
    "\n",
    "baseline_arrests = arrest_count[('TARGET')].value_counts(normalize=True) * 100\n",
    "baseline_arrests"
   ]
  },
  {
   "cell_type": "code",
   "execution_count": 47,
   "metadata": {},
   "outputs": [
    {
     "data": {
      "text/html": [
       "<div>\n",
       "<style scoped>\n",
       "    .dataframe tbody tr th:only-of-type {\n",
       "        vertical-align: middle;\n",
       "    }\n",
       "\n",
       "    .dataframe tbody tr th {\n",
       "        vertical-align: top;\n",
       "    }\n",
       "\n",
       "    .dataframe thead th {\n",
       "        text-align: right;\n",
       "    }\n",
       "</style>\n",
       "<table border=\"1\" class=\"dataframe\">\n",
       "  <thead>\n",
       "    <tr style=\"text-align: right;\">\n",
       "      <th></th>\n",
       "      <th>FO_EMPLOYEE_ID</th>\n",
       "      <th>TARGET</th>\n",
       "    </tr>\n",
       "  </thead>\n",
       "  <tbody>\n",
       "    <tr>\n",
       "      <td>5955</td>\n",
       "      <td>831547</td>\n",
       "      <td>1.0</td>\n",
       "    </tr>\n",
       "    <tr>\n",
       "      <td>4267</td>\n",
       "      <td>608301</td>\n",
       "      <td>1.0</td>\n",
       "    </tr>\n",
       "    <tr>\n",
       "      <td>4238</td>\n",
       "      <td>604621</td>\n",
       "      <td>1.0</td>\n",
       "    </tr>\n",
       "    <tr>\n",
       "      <td>5638</td>\n",
       "      <td>791046</td>\n",
       "      <td>1.0</td>\n",
       "    </tr>\n",
       "    <tr>\n",
       "      <td>1153</td>\n",
       "      <td>165553</td>\n",
       "      <td>1.0</td>\n",
       "    </tr>\n",
       "    <tr>\n",
       "      <td>1786</td>\n",
       "      <td>253251</td>\n",
       "      <td>1.0</td>\n",
       "    </tr>\n",
       "    <tr>\n",
       "      <td>5155</td>\n",
       "      <td>726578</td>\n",
       "      <td>1.0</td>\n",
       "    </tr>\n",
       "    <tr>\n",
       "      <td>282</td>\n",
       "      <td>38836</td>\n",
       "      <td>1.0</td>\n",
       "    </tr>\n",
       "    <tr>\n",
       "      <td>3199</td>\n",
       "      <td>461201</td>\n",
       "      <td>1.0</td>\n",
       "    </tr>\n",
       "    <tr>\n",
       "      <td>3201</td>\n",
       "      <td>461308</td>\n",
       "      <td>1.0</td>\n",
       "    </tr>\n",
       "  </tbody>\n",
       "</table>\n",
       "</div>"
      ],
      "text/plain": [
       "      FO_EMPLOYEE_ID  TARGET\n",
       "5955          831547     1.0\n",
       "4267          608301     1.0\n",
       "4238          604621     1.0\n",
       "5638          791046     1.0\n",
       "1153          165553     1.0\n",
       "1786          253251     1.0\n",
       "5155          726578     1.0\n",
       "282            38836     1.0\n",
       "3199          461201     1.0\n",
       "3201          461308     1.0"
      ]
     },
     "execution_count": 47,
     "metadata": {},
     "output_type": "execute_result"
    }
   ],
   "source": [
    "first_emp_arrests = arrest_count.groupby('FO_EMPLOYEE_ID', as_index=False)['TARGET'].mean()\n",
    "first_emp_arrests.sort_values(by='TARGET', ascending=False).head(10)\n",
    "\n",
    "# interesting - some officers have 100% arrest rates\n",
    "# they might only have one or two rows in this dataset\n",
    "# let's limit this to officers that have 20 or more rows"
   ]
  },
  {
   "cell_type": "code",
   "execution_count": 48,
   "metadata": {},
   "outputs": [
    {
     "data": {
      "text/plain": [
       "<matplotlib.axes._subplots.AxesSubplot at 0x7fc46c5c1750>"
      ]
     },
     "execution_count": 48,
     "metadata": {},
     "output_type": "execute_result"
    },
    {
     "data": {
      "image/png": "[encoded data removed]",
      "text/plain": [
       "<Figure size 468x468 with 1 Axes>"
      ]
     },
     "metadata": {
      "needs_background": "light"
     },
     "output_type": "display_data"
    }
   ],
   "source": [
    "# scatterplot of employee arrest rates\n",
    "\n",
    "f, ax = plt.subplots(figsize=(6.5, 6.5))\n",
    "sns.despine(f, left=True, bottom=True)\n",
    "sns.scatterplot(x='FO_EMPLOYEE_ID', y='TARGET',\n",
    "                palette=\"ch:r=-.2,d=.3_r\",\n",
    "                sizes=(1, 8), linewidth=0,\n",
    "                data=first_emp_arrests, ax=ax)"
   ]
  },
  {
   "cell_type": "code",
   "execution_count": 50,
   "metadata": {},
   "outputs": [
    {
     "name": "stdout",
     "output_type": "stream",
     "text": [
      "<class 'pandas.core.frame.DataFrame'>\n",
      "Int64Index: 213478 entries, 0 to 290144\n",
      "Data columns (total 9 columns):\n",
      "SUBMITTING_UNIT       213478 non-null int64\n",
      "SUBMITTING_BEAT_CD    213478 non-null object\n",
      "CPD_UNIT_NO           213478 non-null int64\n",
      "CREATED_BY            213478 non-null int64\n",
      "RACE_CODE_CD          213478 non-null object\n",
      "FO_EMPLOYEE_ID        213478 non-null int64\n",
      "SO_EMPLOYEE_ID        213478 non-null float64\n",
      "SUPV_EMPLOYEE_ID      213478 non-null float64\n",
      "TARGET                213478 non-null int64\n",
      "dtypes: float64(2), int64(5), object(2)\n",
      "memory usage: 16.3+ MB\n"
     ]
    }
   ],
   "source": [
    "# exclude any officers that have 20 or fewer arrests\n",
    "\n",
    "filtered = arrest_count.groupby('FO_EMPLOYEE_ID').filter(lambda x: len(x) >= 21)\n",
    "filtered.info()"
   ]
  },
  {
   "cell_type": "code",
   "execution_count": 51,
   "metadata": {},
   "outputs": [
    {
     "data": {
      "text/html": [
       "<div>\n",
       "<style scoped>\n",
       "    .dataframe tbody tr th:only-of-type {\n",
       "        vertical-align: middle;\n",
       "    }\n",
       "\n",
       "    .dataframe tbody tr th {\n",
       "        vertical-align: top;\n",
       "    }\n",
       "\n",
       "    .dataframe thead th {\n",
       "        text-align: right;\n",
       "    }\n",
       "</style>\n",
       "<table border=\"1\" class=\"dataframe\">\n",
       "  <thead>\n",
       "    <tr style=\"text-align: right;\">\n",
       "      <th></th>\n",
       "      <th>FO_EMPLOYEE_ID</th>\n",
       "      <th>TARGET</th>\n",
       "    </tr>\n",
       "  </thead>\n",
       "  <tbody>\n",
       "    <tr>\n",
       "      <td>694</td>\n",
       "      <td>262036</td>\n",
       "      <td>1.000000</td>\n",
       "    </tr>\n",
       "    <tr>\n",
       "      <td>2002</td>\n",
       "      <td>742961</td>\n",
       "      <td>0.980769</td>\n",
       "    </tr>\n",
       "    <tr>\n",
       "      <td>2500</td>\n",
       "      <td>936724</td>\n",
       "      <td>0.861111</td>\n",
       "    </tr>\n",
       "    <tr>\n",
       "      <td>857</td>\n",
       "      <td>321618</td>\n",
       "      <td>0.852459</td>\n",
       "    </tr>\n",
       "    <tr>\n",
       "      <td>450</td>\n",
       "      <td>172179</td>\n",
       "      <td>0.847458</td>\n",
       "    </tr>\n",
       "    <tr>\n",
       "      <td>477</td>\n",
       "      <td>182526</td>\n",
       "      <td>0.840580</td>\n",
       "    </tr>\n",
       "    <tr>\n",
       "      <td>702</td>\n",
       "      <td>264134</td>\n",
       "      <td>0.840000</td>\n",
       "    </tr>\n",
       "    <tr>\n",
       "      <td>1468</td>\n",
       "      <td>550037</td>\n",
       "      <td>0.822430</td>\n",
       "    </tr>\n",
       "    <tr>\n",
       "      <td>749</td>\n",
       "      <td>280368</td>\n",
       "      <td>0.815385</td>\n",
       "    </tr>\n",
       "    <tr>\n",
       "      <td>841</td>\n",
       "      <td>315172</td>\n",
       "      <td>0.811765</td>\n",
       "    </tr>\n",
       "    <tr>\n",
       "      <td>709</td>\n",
       "      <td>266758</td>\n",
       "      <td>0.789474</td>\n",
       "    </tr>\n",
       "    <tr>\n",
       "      <td>1331</td>\n",
       "      <td>503311</td>\n",
       "      <td>0.777778</td>\n",
       "    </tr>\n",
       "    <tr>\n",
       "      <td>2279</td>\n",
       "      <td>848820</td>\n",
       "      <td>0.767442</td>\n",
       "    </tr>\n",
       "    <tr>\n",
       "      <td>2576</td>\n",
       "      <td>966601</td>\n",
       "      <td>0.739130</td>\n",
       "    </tr>\n",
       "    <tr>\n",
       "      <td>2292</td>\n",
       "      <td>854212</td>\n",
       "      <td>0.736264</td>\n",
       "    </tr>\n",
       "    <tr>\n",
       "      <td>2182</td>\n",
       "      <td>810090</td>\n",
       "      <td>0.729730</td>\n",
       "    </tr>\n",
       "    <tr>\n",
       "      <td>2149</td>\n",
       "      <td>800075</td>\n",
       "      <td>0.721429</td>\n",
       "    </tr>\n",
       "    <tr>\n",
       "      <td>2384</td>\n",
       "      <td>890525</td>\n",
       "      <td>0.720000</td>\n",
       "    </tr>\n",
       "    <tr>\n",
       "      <td>653</td>\n",
       "      <td>246726</td>\n",
       "      <td>0.712329</td>\n",
       "    </tr>\n",
       "    <tr>\n",
       "      <td>1422</td>\n",
       "      <td>533328</td>\n",
       "      <td>0.708333</td>\n",
       "    </tr>\n",
       "  </tbody>\n",
       "</table>\n",
       "</div>"
      ],
      "text/plain": [
       "      FO_EMPLOYEE_ID    TARGET\n",
       "694           262036  1.000000\n",
       "2002          742961  0.980769\n",
       "2500          936724  0.861111\n",
       "857           321618  0.852459\n",
       "450           172179  0.847458\n",
       "477           182526  0.840580\n",
       "702           264134  0.840000\n",
       "1468          550037  0.822430\n",
       "749           280368  0.815385\n",
       "841           315172  0.811765\n",
       "709           266758  0.789474\n",
       "1331          503311  0.777778\n",
       "2279          848820  0.767442\n",
       "2576          966601  0.739130\n",
       "2292          854212  0.736264\n",
       "2182          810090  0.729730\n",
       "2149          800075  0.721429\n",
       "2384          890525  0.720000\n",
       "653           246726  0.712329\n",
       "1422          533328  0.708333"
      ]
     },
     "execution_count": 51,
     "metadata": {},
     "output_type": "execute_result"
    }
   ],
   "source": [
    "filt_first_emp = filtered.groupby('FO_EMPLOYEE_ID', as_index=False)['TARGET'].mean()\n",
    "highest_20 = filt_first_emp.sort_values(by='TARGET', ascending=False).head(20)\n",
    "highest_20"
   ]
  },
  {
   "cell_type": "code",
   "execution_count": 52,
   "metadata": {},
   "outputs": [
    {
     "data": {
      "text/plain": [
       "<matplotlib.axes._subplots.AxesSubplot at 0x7fc46bcdedd0>"
      ]
     },
     "execution_count": 52,
     "metadata": {},
     "output_type": "execute_result"
    },
    {
     "data": {
      "image/png": "[encoded data removed]",
      "text/plain": [
       "<Figure size 468x468 with 1 Axes>"
      ]
     },
     "metadata": {
      "needs_background": "light"
     },
     "output_type": "display_data"
    }
   ],
   "source": [
    "# here are all of the officers with more than 20 arrests\n",
    "\n",
    "f, ax = plt.subplots(figsize=(6.5, 6.5))\n",
    "sns.despine(f, left=True, bottom=True)\n",
    "sns.scatterplot(x='FO_EMPLOYEE_ID', y='TARGET',\n",
    "                palette=\"ch:r=-.2,d=.3_r\",\n",
    "                sizes=(1, 8), linewidth=0,\n",
    "                data=filt_first_emp, ax=ax)\n",
    "\n"
   ]
  },
  {
   "cell_type": "code",
   "execution_count": null,
   "metadata": {},
   "outputs": [],
   "source": [
    "# let's repeat the same thing, but with supervisors"
   ]
  },
  {
   "cell_type": "code",
   "execution_count": 53,
   "metadata": {},
   "outputs": [
    {
     "data": {
      "text/plain": [
       "1239"
      ]
     },
     "execution_count": 53,
     "metadata": {},
     "output_type": "execute_result"
    }
   ],
   "source": [
    "arrest_count['SUPV_EMPLOYEE_ID'].nunique()"
   ]
  },
  {
   "cell_type": "code",
   "execution_count": 54,
   "metadata": {},
   "outputs": [
    {
     "data": {
      "text/html": [
       "<div>\n",
       "<style scoped>\n",
       "    .dataframe tbody tr th:only-of-type {\n",
       "        vertical-align: middle;\n",
       "    }\n",
       "\n",
       "    .dataframe tbody tr th {\n",
       "        vertical-align: top;\n",
       "    }\n",
       "\n",
       "    .dataframe thead th {\n",
       "        text-align: right;\n",
       "    }\n",
       "</style>\n",
       "<table border=\"1\" class=\"dataframe\">\n",
       "  <thead>\n",
       "    <tr style=\"text-align: right;\">\n",
       "      <th></th>\n",
       "      <th>SUPV_EMPLOYEE_ID</th>\n",
       "      <th>TARGET</th>\n",
       "    </tr>\n",
       "  </thead>\n",
       "  <tbody>\n",
       "    <tr>\n",
       "      <td>566</td>\n",
       "      <td>459073.0</td>\n",
       "      <td>1.0</td>\n",
       "    </tr>\n",
       "    <tr>\n",
       "      <td>766</td>\n",
       "      <td>616060.0</td>\n",
       "      <td>1.0</td>\n",
       "    </tr>\n",
       "    <tr>\n",
       "      <td>850</td>\n",
       "      <td>688690.0</td>\n",
       "      <td>1.0</td>\n",
       "    </tr>\n",
       "    <tr>\n",
       "      <td>274</td>\n",
       "      <td>212562.0</td>\n",
       "      <td>1.0</td>\n",
       "    </tr>\n",
       "    <tr>\n",
       "      <td>531</td>\n",
       "      <td>422310.0</td>\n",
       "      <td>1.0</td>\n",
       "    </tr>\n",
       "    <tr>\n",
       "      <td>873</td>\n",
       "      <td>703148.0</td>\n",
       "      <td>1.0</td>\n",
       "    </tr>\n",
       "    <tr>\n",
       "      <td>59</td>\n",
       "      <td>46235.0</td>\n",
       "      <td>1.0</td>\n",
       "    </tr>\n",
       "    <tr>\n",
       "      <td>667</td>\n",
       "      <td>532982.0</td>\n",
       "      <td>1.0</td>\n",
       "    </tr>\n",
       "    <tr>\n",
       "      <td>365</td>\n",
       "      <td>285934.0</td>\n",
       "      <td>1.0</td>\n",
       "    </tr>\n",
       "    <tr>\n",
       "      <td>815</td>\n",
       "      <td>651965.0</td>\n",
       "      <td>1.0</td>\n",
       "    </tr>\n",
       "  </tbody>\n",
       "</table>\n",
       "</div>"
      ],
      "text/plain": [
       "     SUPV_EMPLOYEE_ID  TARGET\n",
       "566          459073.0     1.0\n",
       "766          616060.0     1.0\n",
       "850          688690.0     1.0\n",
       "274          212562.0     1.0\n",
       "531          422310.0     1.0\n",
       "873          703148.0     1.0\n",
       "59            46235.0     1.0\n",
       "667          532982.0     1.0\n",
       "365          285934.0     1.0\n",
       "815          651965.0     1.0"
      ]
     },
     "execution_count": 54,
     "metadata": {},
     "output_type": "execute_result"
    }
   ],
   "source": [
    "supv_arrests = arrest_count.groupby('SUPV_EMPLOYEE_ID', as_index=False)['TARGET'].mean()\n",
    "supv_arrests.sort_values(by='TARGET', ascending=False).head(10)"
   ]
  },
  {
   "cell_type": "code",
   "execution_count": 56,
   "metadata": {},
   "outputs": [
    {
     "data": {
      "text/plain": [
       "<matplotlib.axes._subplots.AxesSubplot at 0x7fc46d0239d0>"
      ]
     },
     "execution_count": 56,
     "metadata": {},
     "output_type": "execute_result"
    },
    {
     "data": {
      "image/png": "[encoded data removed]",
      "text/plain": [
       "<Figure size 468x468 with 1 Axes>"
      ]
     },
     "metadata": {
      "needs_background": "light"
     },
     "output_type": "display_data"
    }
   ],
   "source": [
    "f, ax = plt.subplots(figsize=(6.5, 6.5))\n",
    "sns.despine(f, left=True, bottom=True)\n",
    "sns.scatterplot(x='SUPV_EMPLOYEE_ID', y='TARGET',\n",
    "                palette=\"ch:r=-.2,d=.3_r\",\n",
    "                sizes=(1, 8), linewidth=0,\n",
    "                data=supv_arrests, ax=ax)"
   ]
  },
  {
   "cell_type": "code",
   "execution_count": 59,
   "metadata": {},
   "outputs": [
    {
     "name": "stdout",
     "output_type": "stream",
     "text": [
      "<class 'pandas.core.frame.DataFrame'>\n",
      "Int64Index: 240822 entries, 0 to 290144\n",
      "Data columns (total 9 columns):\n",
      "SUBMITTING_UNIT       240822 non-null int64\n",
      "SUBMITTING_BEAT_CD    240822 non-null object\n",
      "CPD_UNIT_NO           240822 non-null int64\n",
      "CREATED_BY            240822 non-null int64\n",
      "RACE_CODE_CD          240822 non-null object\n",
      "FO_EMPLOYEE_ID        240822 non-null int64\n",
      "SO_EMPLOYEE_ID        240822 non-null float64\n",
      "SUPV_EMPLOYEE_ID      240822 non-null float64\n",
      "TARGET                240822 non-null int64\n",
      "dtypes: float64(2), int64(5), object(2)\n",
      "memory usage: 18.4+ MB\n"
     ]
    }
   ],
   "source": [
    "filtered_supv = arrest_count.groupby('SUPV_EMPLOYEE_ID').filter(lambda x: len(x) >= 21)\n",
    "filtered_supv.info()"
   ]
  },
  {
   "cell_type": "code",
   "execution_count": 60,
   "metadata": {},
   "outputs": [
    {
     "data": {
      "text/html": [
       "<div>\n",
       "<style scoped>\n",
       "    .dataframe tbody tr th:only-of-type {\n",
       "        vertical-align: middle;\n",
       "    }\n",
       "\n",
       "    .dataframe tbody tr th {\n",
       "        vertical-align: top;\n",
       "    }\n",
       "\n",
       "    .dataframe thead th {\n",
       "        text-align: right;\n",
       "    }\n",
       "</style>\n",
       "<table border=\"1\" class=\"dataframe\">\n",
       "  <thead>\n",
       "    <tr style=\"text-align: right;\">\n",
       "      <th></th>\n",
       "      <th>SUPV_EMPLOYEE_ID</th>\n",
       "      <th>TARGET</th>\n",
       "    </tr>\n",
       "  </thead>\n",
       "  <tbody>\n",
       "    <tr>\n",
       "      <td>104</td>\n",
       "      <td>114341.0</td>\n",
       "      <td>0.860656</td>\n",
       "    </tr>\n",
       "    <tr>\n",
       "      <td>222</td>\n",
       "      <td>245635.0</td>\n",
       "      <td>0.748466</td>\n",
       "    </tr>\n",
       "    <tr>\n",
       "      <td>802</td>\n",
       "      <td>913839.0</td>\n",
       "      <td>0.698630</td>\n",
       "    </tr>\n",
       "    <tr>\n",
       "      <td>729</td>\n",
       "      <td>838875.0</td>\n",
       "      <td>0.697143</td>\n",
       "    </tr>\n",
       "    <tr>\n",
       "      <td>12</td>\n",
       "      <td>13429.0</td>\n",
       "      <td>0.587209</td>\n",
       "    </tr>\n",
       "    <tr>\n",
       "      <td>200</td>\n",
       "      <td>225434.0</td>\n",
       "      <td>0.574879</td>\n",
       "    </tr>\n",
       "    <tr>\n",
       "      <td>616</td>\n",
       "      <td>708954.0</td>\n",
       "      <td>0.565657</td>\n",
       "    </tr>\n",
       "    <tr>\n",
       "      <td>20</td>\n",
       "      <td>25330.0</td>\n",
       "      <td>0.565558</td>\n",
       "    </tr>\n",
       "    <tr>\n",
       "      <td>695</td>\n",
       "      <td>804918.0</td>\n",
       "      <td>0.563981</td>\n",
       "    </tr>\n",
       "    <tr>\n",
       "      <td>819</td>\n",
       "      <td>936333.0</td>\n",
       "      <td>0.557047</td>\n",
       "    </tr>\n",
       "    <tr>\n",
       "      <td>625</td>\n",
       "      <td>716059.0</td>\n",
       "      <td>0.539216</td>\n",
       "    </tr>\n",
       "    <tr>\n",
       "      <td>792</td>\n",
       "      <td>898704.0</td>\n",
       "      <td>0.535714</td>\n",
       "    </tr>\n",
       "    <tr>\n",
       "      <td>77</td>\n",
       "      <td>86876.0</td>\n",
       "      <td>0.521429</td>\n",
       "    </tr>\n",
       "    <tr>\n",
       "      <td>199</td>\n",
       "      <td>224398.0</td>\n",
       "      <td>0.507812</td>\n",
       "    </tr>\n",
       "    <tr>\n",
       "      <td>840</td>\n",
       "      <td>961746.0</td>\n",
       "      <td>0.507583</td>\n",
       "    </tr>\n",
       "    <tr>\n",
       "      <td>854</td>\n",
       "      <td>981449.0</td>\n",
       "      <td>0.495146</td>\n",
       "    </tr>\n",
       "    <tr>\n",
       "      <td>157</td>\n",
       "      <td>175265.0</td>\n",
       "      <td>0.491453</td>\n",
       "    </tr>\n",
       "    <tr>\n",
       "      <td>580</td>\n",
       "      <td>662454.0</td>\n",
       "      <td>0.486373</td>\n",
       "    </tr>\n",
       "    <tr>\n",
       "      <td>714</td>\n",
       "      <td>827781.0</td>\n",
       "      <td>0.482759</td>\n",
       "    </tr>\n",
       "    <tr>\n",
       "      <td>654</td>\n",
       "      <td>750336.0</td>\n",
       "      <td>0.468750</td>\n",
       "    </tr>\n",
       "  </tbody>\n",
       "</table>\n",
       "</div>"
      ],
      "text/plain": [
       "     SUPV_EMPLOYEE_ID    TARGET\n",
       "104          114341.0  0.860656\n",
       "222          245635.0  0.748466\n",
       "802          913839.0  0.698630\n",
       "729          838875.0  0.697143\n",
       "12            13429.0  0.587209\n",
       "200          225434.0  0.574879\n",
       "616          708954.0  0.565657\n",
       "20            25330.0  0.565558\n",
       "695          804918.0  0.563981\n",
       "819          936333.0  0.557047\n",
       "625          716059.0  0.539216\n",
       "792          898704.0  0.535714\n",
       "77            86876.0  0.521429\n",
       "199          224398.0  0.507812\n",
       "840          961746.0  0.507583\n",
       "854          981449.0  0.495146\n",
       "157          175265.0  0.491453\n",
       "580          662454.0  0.486373\n",
       "714          827781.0  0.482759\n",
       "654          750336.0  0.468750"
      ]
     },
     "execution_count": 60,
     "metadata": {},
     "output_type": "execute_result"
    }
   ],
   "source": [
    "filt_supv_arrests = filtered_supv.groupby('SUPV_EMPLOYEE_ID', as_index=False)['TARGET'].mean()\n",
    "highest_20_supv = filt_supv_arrests.sort_values(by='TARGET', ascending=False).head(20)\n",
    "highest_20_supv"
   ]
  },
  {
   "cell_type": "code",
   "execution_count": 61,
   "metadata": {},
   "outputs": [
    {
     "data": {
      "text/plain": [
       "<matplotlib.axes._subplots.AxesSubplot at 0x7fc46d086f50>"
      ]
     },
     "execution_count": 61,
     "metadata": {},
     "output_type": "execute_result"
    },
    {
     "data": {
      "image/png": "[encoded data removed]",
      "text/plain": [
       "<Figure size 468x468 with 1 Axes>"
      ]
     },
     "metadata": {
      "needs_background": "light"
     },
     "output_type": "display_data"
    }
   ],
   "source": [
    "# here are all of the supervisors with more than 20 arrests\n",
    "\n",
    "f, ax = plt.subplots(figsize=(6.5, 6.5))\n",
    "sns.despine(f, left=True, bottom=True)\n",
    "sns.scatterplot(x='SUPV_EMPLOYEE_ID', y='TARGET',\n",
    "                palette=\"ch:r=-.2,d=.3_r\",\n",
    "                sizes=(1, 8), linewidth=0,\n",
    "                data=filt_supv_arrests, ax=ax)"
   ]
  },
  {
   "cell_type": "code",
   "execution_count": null,
   "metadata": {},
   "outputs": [],
   "source": []
  },
  {
   "cell_type": "code",
   "execution_count": null,
   "metadata": {},
   "outputs": [],
   "source": [
    "# list out 20 worst supervisors\n",
    "# target is \"worst\" list\n",
    "# based on "
   ]
  },
  {
   "cell_type": "code",
   "execution_count": null,
   "metadata": {},
   "outputs": [],
   "source": []
  },
  {
   "cell_type": "code",
   "execution_count": null,
   "metadata": {},
   "outputs": [],
   "source": []
  },
  {
   "cell_type": "code",
   "execution_count": null,
   "metadata": {},
   "outputs": [],
   "source": [
    "# NEXT STEPS\n",
    "\n",
    "# number of rows by each officer, number of arrests\n",
    "# number of rows by each supervisor, number of arrests\n",
    "\n",
    "# for above info, keep race\n",
    "# re-pull arrest count with \"card\" aka unique identifier\n",
    "# remove duplicates"
   ]
  }
 ],
 "metadata": {
  "kernelspec": {
   "display_name": "Python 3",
   "language": "python",
   "name": "python3"
  },
  "language_info": {
   "codemirror_mode": {
    "name": "ipython",
    "version": 3
   },
   "file_extension": ".py",
   "mimetype": "text/x-python",
   "name": "python",
   "nbconvert_exporter": "python",
   "pygments_lexer": "ipython3",
   "version": "3.7.4"
  }
 },
 "nbformat": 4,
 "nbformat_minor": 4
}
